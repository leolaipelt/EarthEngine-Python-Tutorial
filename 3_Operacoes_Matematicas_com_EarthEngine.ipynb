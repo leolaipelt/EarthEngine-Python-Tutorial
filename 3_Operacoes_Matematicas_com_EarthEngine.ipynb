{
  "nbformat": 4,
  "nbformat_minor": 0,
  "metadata": {
    "colab": {
      "name": "Operacoes Matematicas com EarthEngine.ipynb",
      "provenance": [],
      "include_colab_link": true
    },
    "kernelspec": {
      "name": "python3",
      "display_name": "Python 3"
    }
  },
  "cells": [
    {
      "cell_type": "markdown",
      "metadata": {
        "id": "view-in-github",
        "colab_type": "text"
      },
      "source": [
        "<a href=\"https://colab.research.google.com/github/leolaipelt/EarthEnginePythonBasico/blob/master/Operacoes_Matematicas_com_EarthEngine.ipynb\" target=\"_parent\"><img src=\"https://colab.research.google.com/assets/colab-badge.svg\" alt=\"Open In Colab\"/></a>"
      ]
    },
    {
      "cell_type": "markdown",
      "metadata": {
        "id": "qy9CzNPAxTeE",
        "colab_type": "text"
      },
      "source": [
        "# Operações Matematicas\n",
        "\n",
        "Hora de conhecer como fazer operações matemáticas com o **EarthEngine!**\n",
        "\n",
        "Como sempre é necessário no Colab, vamos instalar as bibliotecas que precisamos!\n",
        "\n"
      ]
    },
    {
      "cell_type": "code",
      "metadata": {
        "id": "56LVa5NXvYoa",
        "colab_type": "code",
        "colab": {}
      },
      "source": [
        "!pip install earthengine-api"
      ],
      "execution_count": 0,
      "outputs": []
    },
    {
      "cell_type": "code",
      "metadata": {
        "id": "C-GS16BZxiMv",
        "colab_type": "code",
        "colab": {}
      },
      "source": [
        "import ee; ee.Authenticate()"
      ],
      "execution_count": 0,
      "outputs": []
    },
    {
      "cell_type": "code",
      "metadata": {
        "id": "qg00am3pxpkL",
        "colab_type": "code",
        "colab": {}
      },
      "source": [
        "import ee\n",
        "\n",
        "ee.Initialize()"
      ],
      "execution_count": 0,
      "outputs": []
    },
    {
      "cell_type": "markdown",
      "metadata": {
        "id": "4ZqBCcSmx7-c",
        "colab_type": "text"
      },
      "source": [
        "### Podemos realizar operações matemáticas simples com o EE. \n",
        "\n",
        "-Essas operações são realizadas a cada pixel da image.\n",
        "\n",
        "### Importante:\n",
        "  \n",
        "\n",
        "*   A operação entre duas imagens (ou mais) só ocorrerá corretamente se ambas as imagens possuem o mesmo número do Bandas.\n",
        "*   Uma excessão a essa regra é se a única banda presente na imagem1 (por exemplo) está entre as bandas da imagem2, ai o EE irá replicar as outras bandas para a imagem3 (resultado da operação entre imagem1 e imagem2).\n",
        "\n",
        "\n",
        "**Vamos para um exemplo:**"
      ]
    },
    {
      "cell_type": "code",
      "metadata": {
        "id": "iAgelti_zb7g",
        "colab_type": "code",
        "colab": {}
      },
      "source": [
        "landsat1999 = ee.Image('LANDSAT/LE7_TOA_5YEAR/1999_2003');\n",
        "landsat2008 = ee.Image('LANDSAT/LE7_TOA_5YEAR/2008_2012');\n",
        "\n",
        "ndvi1999 = landsat1999.select('B4').subtract(landsat1999.select('B3'))\\\n",
        "               .divide(landsat1999.select('B4').add(landsat1999.select('B3')));\n",
        "\n",
        "\n",
        "    "
      ],
      "execution_count": 0,
      "outputs": []
    },
    {
      "cell_type": "markdown",
      "metadata": {
        "id": "UCKwhkcqz0OO",
        "colab_type": "text"
      },
      "source": [
        "As funções matemáticas no EE são:\n",
        "\n",
        "*   add() (Adição)\n",
        "*   subtract() (Subtração)\n",
        "*   multiple() (Multiplicação)\n",
        "*   divide() (Divisão)\n",
        "\n",
        "\n",
        "\n",
        "\n",
        "\n"
      ]
    },
    {
      "cell_type": "markdown",
      "metadata": {
        "id": "DDs2K6240SZI",
        "colab_type": "text"
      },
      "source": [
        "Para operações matemáticas mais complexas, o EE oferece a função \"Expression\".\n",
        "\n",
        "Ela é aplicada em Images no seguinte formato:\n",
        "\n"
      ]
    },
    {
      "cell_type": "code",
      "metadata": {
        "id": "4V10piH3ztKi",
        "colab_type": "code",
        "colab": {}
      },
      "source": [
        "image = ee.Image('LANDSAT/LC08/C01/T1_TOA/LC08_044034_20140318');\n",
        "\n",
        "evi = image.expression(\n",
        "    '2.5 * ((NIR - RED) / (NIR + 6 * RED - 7.5 * BLUE + 1))', { #Aqui escrevemos a nossa expressão\n",
        "      'NIR': image.select('B5'), #Aqui atribuimos a variáveis da expressão as bandas a serem utilizadas\n",
        "      'RED': image.select('B4'),\n",
        "      'BLUE': image.select('B2')\n",
        "}).rename('EVI') #Não esquecer de fechar a expressão! Se quisermos, essa nova expressão pode ser acompanhada de um .rename() para atribuir a uma nova banda a expressão realizada"
      ],
      "execution_count": 0,
      "outputs": []
    },
    {
      "cell_type": "code",
      "metadata": {
        "id": "VsrubdtF01VP",
        "colab_type": "code",
        "colab": {
          "base_uri": "https://localhost:8080/",
          "height": 34
        },
        "outputId": "1195add6-7fe2-4d92-8e05-955998650a9c"
      },
      "source": [
        "print(evi.bandNames().getInfo())"
      ],
      "execution_count": 9,
      "outputs": [
        {
          "output_type": "stream",
          "text": [
            "['EVI']\n"
          ],
          "name": "stdout"
        }
      ]
    },
    {
      "cell_type": "markdown",
      "metadata": {
        "id": "cVAiBF4S1_R2",
        "colab_type": "text"
      },
      "source": [
        "Podemos, então, calcular o EVI de outra maneira!"
      ]
    },
    {
      "cell_type": "code",
      "metadata": {
        "id": "ssZPinpV1RYY",
        "colab_type": "code",
        "colab": {}
      },
      "source": [
        "evi = image.expression(\n",
        "    '2.5 * ((NIR - RED) / (NIR + 6 * RED - 7.5 * BLUE + 1))', {\n",
        "      'NIR': image.select('B5'),\n",
        "      'RED': image.select('B4'),\n",
        "      'BLUE': image.select('B2')\n",
        "    }).rename('EVI')"
      ],
      "execution_count": 0,
      "outputs": []
    },
    {
      "cell_type": "markdown",
      "metadata": {
        "id": "AIcQMYjZ2NzX",
        "colab_type": "text"
      },
      "source": [
        "Aqui mais algumas operações que podem ser inseridas no expression():\n",
        "\n",
        "*   Arithmetic  + - * / % **        (Add, Subtract, Multiply, Divide, Modulus, Exponent)\n",
        "*   Comparison\t== != < > <= >=   (Equal, Not Equal, Less Than, Greater than)\n",
        "*   Logical\t&& || ! ^              (And, Or, Not, Xor)\n",
        "*   Ternary\t? : (If then else)\n",
        "\n",
        "\n",
        "\n",
        "\n"
      ]
    }
  ]
}
