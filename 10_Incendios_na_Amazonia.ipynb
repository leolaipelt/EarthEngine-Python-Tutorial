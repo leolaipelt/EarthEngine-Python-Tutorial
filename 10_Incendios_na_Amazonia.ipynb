{
  "nbformat": 4,
  "nbformat_minor": 0,
  "metadata": {
    "colab": {
      "name": "Incêndios na Amazônia.ipynb",
      "provenance": [],
      "include_colab_link": true
    },
    "kernelspec": {
      "name": "python3",
      "display_name": "Python 3"
    }
  },
  "cells": [
    {
      "cell_type": "markdown",
      "metadata": {
        "id": "view-in-github",
        "colab_type": "text"
      },
      "source": [
        "<a href=\"https://colab.research.google.com/github/leolaipelt/EarthEngine-Python-Tutorial/blob/master/10_Incendios_na_Amazonia.ipynb\" target=\"_parent\"><img src=\"https://colab.research.google.com/assets/colab-badge.svg\" alt=\"Open In Colab\"/></a>"
      ]
    },
    {
      "cell_type": "markdown",
      "metadata": {
        "id": "ZOBNQ9WdLxSz",
        "colab_type": "text"
      },
      "source": [
        "# Incêndios na Amazônia - 2019\n",
        "\n",
        "Seguindo com exemplos do que podemos fazer com o EarthEngine, existe um produto da NASA, em relação a incêndios, disponibilizado no banco de dados do EE. O *Fire Information for Resource Management System (FIRMS)* contém uma máscara raster com informações sobre incêndios no mundo todo.  O produto é elaborado utilizando MODIS MOD14/MYD14 *Fire and Thermal Anomalies*. \n",
        "\n",
        "* Resolução 1000m.\n",
        "* Bandas: T21 (Temperatura de Brilho).\n",
        "* Range: 300-509.29 Kelvin."
      ]
    },
    {
      "cell_type": "code",
      "metadata": {
        "id": "uOzEsYa9GNlk",
        "colab_type": "code",
        "colab": {}
      },
      "source": [
        "!pip install earthengine-api"
      ],
      "execution_count": 0,
      "outputs": []
    },
    {
      "cell_type": "code",
      "metadata": {
        "id": "7FRsZSG5GQ6E",
        "colab_type": "code",
        "colab": {}
      },
      "source": [
        "import ee; ee.Authenticate()"
      ],
      "execution_count": 0,
      "outputs": []
    },
    {
      "cell_type": "code",
      "metadata": {
        "id": "dplN8R00GbtP",
        "colab_type": "code",
        "colab": {}
      },
      "source": [
        "ee.Initialize()\n",
        "\n",
        "##Nossa Funcao de retirar nuvens das imagens do L8\n",
        "def Cloud_MASKL8(image):\n",
        "    \n",
        "    quality = image.select('pixel_qa');\n",
        "    c01 = quality.eq(322); #//Clear, low confidence cloud\n",
        "    c02 = quality.eq(324); #//water, low confidence cloud\n",
        "    c03 = quality.eq(1346);# //Clear terrain, terrain occluded\n",
        "    mask = c01.Or(c02).Or(c03);\n",
        "    return image.updateMask(mask);\n",
        "\n",
        "L8=(ee.ImageCollection(\"LANDSAT/LC08/C01/T1_SR\")\n",
        "      .filterDate(\"2017-08-01\",\"2019-08-30\")).map(Cloud_MASKL8).mosaic() #Aqui criamos um mosaico com as imagens disponiveis de L8 no periodo que estipulamos\n",
        "\n",
        "amazonia = ee.FeatureCollection(\"users/leolaipelt/AmazoniaLegal\") ##Um SHP da Amazonia\n",
        "\n",
        "dataset = ee.ImageCollection('FIRMS').filter(ee.Filter.date('2019-08-01', '2019-08-26')) ##Aqui selecionamos as imagens do FIRMS\n",
        " \n",
        "fire = dataset.select('T21').max(); #Queremos apenas os valores maximos encontrado nesse periodo para aquele pixel\n",
        " \n"
      ],
      "execution_count": 0,
      "outputs": []
    },
    {
      "cell_type": "code",
      "metadata": {
        "id": "6YxhgZWWGydv",
        "colab_type": "code",
        "colab": {}
      },
      "source": [
        "#Vamos visualizar esse produto com o mapa que já criamos!\n",
        "import folium\n",
        "\n",
        "def add_ee_layer(self,imagem,visParams, nome):\n",
        "  mapID = ee.Image(imagem).getMapId(visParams)\n",
        "  folium.raster_layers.TileLayer(\n",
        "    tiles =\"https://earthengine.googleapis.com/map/\"+mapID['mapid']+\n",
        "      \"/{z}/{x}/{y}?token=\"+mapID['token'],\n",
        "    attr = \"Nosso Mapinha do Curso de Python\",\n",
        "    name = nome,\n",
        "    overlay = True,\n",
        "    control = True\n",
        "  ).add_to(self)\n",
        "  \n",
        "meuMap = folium.Map(location=[20, 0], zoom_start=3, height=800)\n",
        "\n",
        "folium.Map.add_ee_layer = add_ee_layer"
      ],
      "execution_count": 0,
      "outputs": []
    },
    {
      "cell_type": "code",
      "metadata": {
        "id": "iYS6HaJSGzBM",
        "colab_type": "code",
        "colab": {
          "base_uri": "https://localhost:8080/",
          "height": 858
        },
        "outputId": "41a85247-4e99-4624-bcf2-cc8177941f71"
      },
      "source": [
        "# Adicionando no mapa a imagem que criamos\n",
        "meuMap.add_ee_layer(L8.clip(amazonia), {'bands':['B4','B3','B2'],'min':0,'max':3000,'gamma':1.5}, 'Amazonia RGB')\n",
        "meuMap.add_ee_layer(fire.clip(amazonia), {'min':300,'max':400,'palette':['red', 'orange', 'yellow']}, 'Amazonia Incêndios')\n",
        "\n",
        "# Adicionando um controlador de layers no nosso mapa\n",
        "meuMap.add_child(folium.LayerControl())\n",
        "\n",
        "#Ver nosso mapa!\n",
        "display(meuMap)"
      ],
      "execution_count": 34,
      "outputs": [
        {
          "output_type": "display_data",
          "data": {
            "text/html": [
              "<div style=\"width:100%;\"><div style=\"position:relative;width:100%;height:0;padding-bottom:60%;\"><iframe src=\"data:text/html;charset=utf-8;base64,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\" style=\"position:absolute;width:100%;height:100%;left:0;top:0;border:none !important;\" allowfullscreen webkitallowfullscreen mozallowfullscreen></iframe></div></div>"
            ],
            "text/plain": [
              "<folium.folium.Map at 0x7f851cd246d8>"
            ]
          },
          "metadata": {
            "tags": []
          }
        }
      ]
    },
    {
      "cell_type": "markdown",
      "metadata": {
        "id": "mVr5_9PRRfaG",
        "colab_type": "text"
      },
      "source": [
        "[Ref: GeoBlog](https://mygeoblog.com/)"
      ]
    },
    {
      "cell_type": "code",
      "metadata": {
        "id": "zc7WPAinRqU6",
        "colab_type": "code",
        "colab": {}
      },
      "source": [
        ""
      ],
      "execution_count": 0,
      "outputs": []
    }
  ]
}