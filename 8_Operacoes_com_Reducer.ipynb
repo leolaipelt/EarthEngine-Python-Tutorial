{
  "nbformat": 4,
  "nbformat_minor": 0,
  "metadata": {
    "colab": {
      "name": "Operações_com_Reducer.ipynb",
      "provenance": [],
      "include_colab_link": true
    },
    "kernelspec": {
      "name": "python3",
      "display_name": "Python 3"
    }
  },
  "cells": [
    {
      "cell_type": "markdown",
      "metadata": {
        "id": "view-in-github",
        "colab_type": "text"
      },
      "source": [
        "<a href=\"https://colab.research.google.com/github/leolaipelt/EarthEnginePythonBasico/blob/master/8_Operacoes_com_Reducer.ipynb\" target=\"_parent\"><img src=\"https://colab.research.google.com/assets/colab-badge.svg\" alt=\"Open In Colab\"/></a>"
      ]
    },
    {
      "cell_type": "markdown",
      "metadata": {
        "id": "uIuTLxqL-Vus",
        "colab_type": "text"
      },
      "source": [
        "## Operações com Reducer\n",
        "\n",
        "Reducers possuem como principal característica obter através de uma entrada de uma coleção de imagens, por exemplo, e obter uma única saída. Usando essa operação, é possível agregar informações através do tempo, espaço e bandas.\n",
        "\n",
        "- **Tempo**  = `imageCollection.reduce()`\n",
        "- **Espaço** = `image.reduceRegion()` e `image.reduceNeighborhood()`\n",
        "- **Bandas**  = `image.reduce()`,\n",
        "\n",
        "[Retirado de: EEwPython](https://colab.research.google.com/github/csaybar/EEwPython/blob/master/index.ipynb)\n",
        "\n",
        "Com o Reducer podemos obter informações estatísticas como: média, mediana, mínimo, máximo, de acordo com o parâmetro desejado. \n",
        "\n",
        "Um pouco complicado, não achou? Vamos ver alguns exemplos!"
      ]
    },
    {
      "cell_type": "code",
      "metadata": {
        "id": "D5XzvYtv9aB2",
        "colab_type": "code",
        "colab": {}
      },
      "source": [
        "!pip install earthengine-api"
      ],
      "execution_count": 0,
      "outputs": []
    },
    {
      "cell_type": "code",
      "metadata": {
        "id": "5_k8WfFFASGq",
        "colab_type": "code",
        "colab": {}
      },
      "source": [
        "import ee; ee.Authenticate()"
      ],
      "execution_count": 0,
      "outputs": []
    },
    {
      "cell_type": "code",
      "metadata": {
        "id": "aibQg-gjAuvt",
        "colab_type": "code",
        "colab": {}
      },
      "source": [
        "ee.Initialize()"
      ],
      "execution_count": 0,
      "outputs": []
    },
    {
      "cell_type": "code",
      "metadata": {
        "id": "Mk-RW52qA5VP",
        "colab_type": "code",
        "colab": {
          "base_uri": "https://localhost:8080/",
          "height": 34
        },
        "outputId": "7f5533dc-d302-48d1-9720-ad5f6bfb6178"
      },
      "source": [
        "image = (ee.Image('LANDSAT/LC08/C01/T1/LC08_044034_20140318')\n",
        "    .select(['B4', 'B3', 'B2']));\n",
        "geometry=image.geometry()\n",
        "\n",
        "#Reducer Espacial\n",
        "#Calculando a Média das Bandas\n",
        "meanDictionary = image.reduceRegion(\n",
        "  reducer= ee.Reducer.mean(),\n",
        "  geometry=geometry ,\n",
        "  scale= 30,\n",
        "  maxPixels= 1e9\n",
        ");\n",
        "print(meanDictionary.getInfo())"
      ],
      "execution_count": 15,
      "outputs": [
        {
          "output_type": "stream",
          "text": [
            "{'B2': 8544.545293463992, 'B3': 7730.444736292572, 'B4': 7176.731994489558}\n"
          ],
          "name": "stdout"
        }
      ]
    },
    {
      "cell_type": "code",
      "metadata": {
        "id": "Y8K5mDnYBJhC",
        "colab_type": "code",
        "colab": {}
      },
      "source": [
        "#Reducer Temporal\n",
        "collection = (ee.ImageCollection('LANDSAT/LT05/C01/T1_SR')\n",
        "  .filterDate('2006-01-01', '2007-12-31')\n",
        "  .filter(ee.Filter.eq('WRS_PATH', 223))\n",
        "  .filter(ee.Filter.eq('WRS_ROW', 67)))\n",
        "\n",
        "#Fazer a mediana de todas as Bandas presentes na coleção de imagens.\n",
        "median = collection.reduce(ee.Reducer.median());\n",
        "\n",
        "#Vale destacar que após realizar esse tipo de operação, as bandas são renomeadas automáticamente com o sufixo da ação realizada.\n",
        "vis_param = {'bands': ['B3_median', 'B2_median', 'B1_median'],'min':0,'max':3000, 'gamma': 1.6};\n",
        "\n"
      ],
      "execution_count": 0,
      "outputs": []
    },
    {
      "cell_type": "code",
      "metadata": {
        "id": "b_7jI4EDBs2B",
        "colab_type": "code",
        "colab": {}
      },
      "source": [
        "#Vamos visualizar esse produto com o mapa que já criamos!\n",
        "import folium\n",
        "\n",
        "def add_ee_layer(self,imagem,visParams, nome):\n",
        "  mapID = ee.Image(imagem).getMapId(visParams)\n",
        "  folium.raster_layers.TileLayer(\n",
        "    tiles =\"https://earthengine.googleapis.com/map/\"+mapID['mapid']+\n",
        "      \"/{z}/{x}/{y}?token=\"+mapID['token'],\n",
        "    attr = \"Nosso Mapinha do Curso de Python\",\n",
        "    name = nome,\n",
        "    overlay = True,\n",
        "    control = True\n",
        "  ).add_to(self)\n",
        "  \n",
        "meuMap = folium.Map(location=[20, 0], zoom_start=3, height=800)\n",
        "\n",
        "folium.Map.add_ee_layer = add_ee_layer"
      ],
      "execution_count": 0,
      "outputs": []
    },
    {
      "cell_type": "code",
      "metadata": {
        "id": "OcX04RneEBhp",
        "colab_type": "code",
        "colab": {
          "base_uri": "https://localhost:8080/",
          "height": 858
        },
        "outputId": "99f76e64-e3e7-4950-94ae-2c5f200b90d5"
      },
      "source": [
        "# Adicionando no mapa a imagem que criamos\n",
        "meuMap.add_ee_layer(median, vis_param,'Mediana')\n",
        "\n",
        "# Adicionando um controlador de layers no nosso mapa\n",
        "meuMap.add_child(folium.LayerControl())\n",
        "\n",
        "#Ver nosso mapa!\n",
        "display(meuMap)"
      ],
      "execution_count": 38,
      "outputs": [
        {
          "output_type": "display_data",
          "data": {
            "text/html": [
              "<div style=\"width:100%;\"><div style=\"position:relative;width:100%;height:0;padding-bottom:60%;\"><iframe src=\"data:text/html;charset=utf-8;base64,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\" style=\"position:absolute;width:100%;height:100%;left:0;top:0;border:none !important;\" allowfullscreen webkitallowfullscreen mozallowfullscreen></iframe></div></div>"
            ],
            "text/plain": [
              "<folium.folium.Map at 0x7fd32a274b38>"
            ]
          },
          "metadata": {
            "tags": []
          }
        }
      ]
    },
    {
      "cell_type": "code",
      "metadata": {
        "id": "xBDzU_GTEGLO",
        "colab_type": "code",
        "colab": {}
      },
      "source": [
        ""
      ],
      "execution_count": 0,
      "outputs": []
    }
  ]
}