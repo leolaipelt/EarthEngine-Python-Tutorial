{
  "nbformat": 4,
  "nbformat_minor": 0,
  "metadata": {
    "colab": {
      "name": "Usando_Landsat.ipynb",
      "provenance": [],
      "include_colab_link": true
    },
    "kernelspec": {
      "name": "python3",
      "display_name": "Python 3"
    }
  },
  "cells": [
    {
      "cell_type": "markdown",
      "metadata": {
        "id": "view-in-github",
        "colab_type": "text"
      },
      "source": [
        "<a href=\"https://colab.research.google.com/github/leolaipelt/EarthEnginePythonBasico/blob/master/7_Usando_Landsat.ipynb\" target=\"_parent\"><img src=\"https://colab.research.google.com/assets/colab-badge.svg\" alt=\"Open In Colab\"/></a>"
      ]
    },
    {
      "cell_type": "markdown",
      "metadata": {
        "id": "FAVQA88n29TX",
        "colab_type": "text"
      },
      "source": [
        "## Usando Landsat\n",
        "\n",
        "O catálogo de imagens do EE possui todas as coleções dos produtos Landsat. <br>\n",
        "\n",
        "Landsat é um programa da USGS em parceria com a NASA para mapeamento digital da superfície da Terra. Atualmente, a resolução das imagens são de 30 metros, com intervalos de tempos de 15 dias.\n",
        "\n",
        "### Produtos Landsats\n",
        "\n",
        "* Reflectância da Superfície (SR)\n",
        "* Correção da reflectância no Topo da Superfície (TOA)\n",
        "* Produtos já calculados de NDVI, EVI, índices de Vegetação...\n",
        "\n",
        "### Satélites \n",
        "\n",
        "* Landsat 8 (2013 - atual)\n",
        "* Landsat 7 (1999 - atual)**\n",
        "* Landsat 5 (1984 - 2012)\n",
        "* Landsat 4 (1982 - 1993)\n",
        "* Landsat 1-5 (1972 - 1999)\n",
        "\n",
        " ** *O Landsat 7 apresentou falhas após o dia 31 de Maio de 2003*\n",
        " \n",
        "## Outras Informações\n",
        "\n",
        "As coleções Landsat se dividem em 3 categorias:\n",
        "\n",
        "* Tier 1 (T1) - Atende a padrões de qualidade radiométrica e geométrica pré-determinados\n",
        "* Tier 2 (T2) - Não atende aos padrões de T1\n",
        "* Real Time (RT) - Imagem não passou por pré-processamento (tempo médio de 1 mês após aquisição pelo satélite)\n",
        " \n",
        "#### Vamos Conferir como utilizar essas bibliotecas no EE!"
      ]
    },
    {
      "cell_type": "code",
      "metadata": {
        "id": "BpdnhSxH5VIO",
        "colab_type": "code",
        "colab": {}
      },
      "source": [
        "!pip install earthengine-api"
      ],
      "execution_count": 0,
      "outputs": []
    },
    {
      "cell_type": "code",
      "metadata": {
        "id": "j2JC0WFT5aLo",
        "colab_type": "code",
        "colab": {}
      },
      "source": [
        "import ee; ee.Authenticate()"
      ],
      "execution_count": 0,
      "outputs": []
    },
    {
      "cell_type": "code",
      "metadata": {
        "id": "OaQ9stAX53o2",
        "colab_type": "code",
        "colab": {}
      },
      "source": [
        "#Primeiro, vamos colocar nosso código de visualização!\n",
        "import folium\n",
        "\n",
        "def add_ee_layer(self,imagem,visParams, nome):\n",
        "  mapID = ee.Image(imagem).getMapId(visParams)\n",
        "  folium.raster_layers.TileLayer(\n",
        "    tiles =\"https://earthengine.googleapis.com/map/\"+mapID['mapid']+\n",
        "      \"/{z}/{x}/{y}?token=\"+mapID['token'],\n",
        "    attr = \"Nosso Mapinha do Curso de Python\",\n",
        "    name = nome,\n",
        "    overlay = True,\n",
        "    control = True\n",
        "  ).add_to(self)\n",
        "  \n",
        "meuMap = folium.Map(location=[20, 0], zoom_start=3, height=800)\n",
        "\n",
        "folium.Map.add_ee_layer = add_ee_layer"
      ],
      "execution_count": 0,
      "outputs": []
    },
    {
      "cell_type": "code",
      "metadata": {
        "id": "QAn1rpmE6Lho",
        "colab_type": "code",
        "colab": {}
      },
      "source": [
        "#Iniciando\n",
        "\n",
        "ee.Initialize()\n",
        "\n",
        "#Importando uma coleção do Landsat 8 (SR)\n",
        "\n",
        "start_date=ee.Date('2019-01-01')\n",
        "end_date=ee.Date('2019-08-30')\n",
        "\n",
        "collection = (ee.ImageCollection('LANDSAT/LC08/C01/T1_SR')\n",
        "                        .filterDate(start_date, end_date)\n",
        "                        .select([\"B1\",\"B2\",\"B3\",\"B4\",\"B5\",\"B6\",\"B7\",\"B10\",\"pixel_qa\"])) \n"
      ],
      "execution_count": 0,
      "outputs": []
    },
    {
      "cell_type": "code",
      "metadata": {
        "id": "ho-h3F4i6tHJ",
        "colab_type": "code",
        "colab": {}
      },
      "source": [
        "#Vamos criar uma mascara de núvens porque nós não gostamos delas!\n",
        "\n",
        "#Definir Bandas\n",
        "bands = ['B1','B2', 'B3', 'B4', 'B5', 'B6', 'B7']\n",
        "\n",
        "\n",
        "def maskL8sr(image):\n",
        "  #Bits 3 e 5 são sombra de nuvem e nuvem, respectivamente\n",
        "  cloudShadowBitMask = ee.Number(2).pow(3).int() \n",
        "  cloudsBitMask = ee.Number(2).pow(5).int()\n",
        "  #Utilizar a banda pixel_qa\n",
        "  qa = image.select('pixel_qa')\n",
        "  #0 significa pixels sem cobertura de núvens\n",
        "  mask = qa.bitwiseAnd(cloudShadowBitMask).eq(0).And(\n",
        "    qa.bitwiseAnd(cloudsBitMask).eq(0))\n",
        "  return image.updateMask(mask) #Aqui nos dividimos por 10000 pois é a Constante de conversão do produto Landsat SR"
      ],
      "execution_count": 0,
      "outputs": []
    },
    {
      "cell_type": "code",
      "metadata": {
        "id": "tp_h6w0N7Vq0",
        "colab_type": "code",
        "colab": {}
      },
      "source": [
        "Cloudness_Landsat=collection.map(maskL8sr)\n",
        "\n",
        "##E Vamos fazer uma mediana para observarmos tudo em uma só imagem!\n",
        "\n",
        "Coudness_median=Cloudness_Landsat.median()"
      ],
      "execution_count": 0,
      "outputs": []
    },
    {
      "cell_type": "code",
      "metadata": {
        "id": "Fufs5c847a-x",
        "colab_type": "code",
        "colab": {
          "base_uri": "https://localhost:8080/",
          "height": 858
        },
        "outputId": "1b31e5f1-c84b-4f25-dbcb-63805cc20e8a"
      },
      "source": [
        "# Adicionando no mapa a imagem que criamos\n",
        "meuMap.add_ee_layer(Coudness_median, {'bands': ['B4', 'B3', 'B2'],'min':0,'max':3000,'gamma':'1.5'},'LANDSAT8')\n",
        "\n",
        "# Adicionando um controlador de layers no nosso mapa\n",
        "meuMap.add_child(folium.LayerControl())\n",
        "\n",
        "#Ver nosso mapa!\n",
        "display(meuMap)"
      ],
      "execution_count": 28,
      "outputs": [
        {
          "output_type": "display_data",
          "data": {
            "text/html": [
              "<div style=\"width:100%;\"><div style=\"position:relative;width:100%;height:0;padding-bottom:60%;\"><iframe src=\"data:text/html;charset=utf-8;base64,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\" style=\"position:absolute;width:100%;height:100%;left:0;top:0;border:none !important;\" allowfullscreen webkitallowfullscreen mozallowfullscreen></iframe></div></div>"
            ],
            "text/plain": [
              "<folium.folium.Map at 0x7fe56ec00128>"
            ]
          },
          "metadata": {
            "tags": []
          }
        }
      ]
    },
    {
      "cell_type": "code",
      "metadata": {
        "id": "0FlfgalS72EU",
        "colab_type": "code",
        "colab": {
          "base_uri": "https://localhost:8080/",
          "height": 858
        },
        "outputId": "847c44cc-e0de-4295-8725-6a5e9d8f080c"
      },
      "source": [
        "##Vamos olhar um produto derivado das imagens Landsat!\n",
        "#O NDWI é um índice para identificar o teor de umidade na vegetação, e é calculado através do Infravermelho Próximo e Médio\n",
        "\n",
        "dataset = (ee.ImageCollection('LANDSAT/LC08/C01/T1_8DAY_NDWI')\n",
        "                  .filterDate('2017-01-01', '2017-12-31'))\n",
        "colorized = dataset.select('NDWI');\n",
        "colorizedVis = {\n",
        "  'min': 0.0,\n",
        "  'max': 1.0,\n",
        "  'palette': ['0000ff', '00ffff', 'ffff00', 'ff0000', 'ffffff'],\n",
        "}\n",
        "\n",
        "meuMap = folium.Map(location=[20, 0], zoom_start=3, height=800)\n",
        "\n",
        "folium.Map.add_ee_layer = add_ee_layer\n",
        "\n",
        "# Adicionando no mapa a imagem que criamos\n",
        "meuMap.add_ee_layer(colorized.median(),colorizedVis,'NBRT')\n",
        "\n",
        "# Adicionando um controlador de layers no nosso mapa\n",
        "meuMap.add_child(folium.LayerControl())\n",
        "\n",
        "#Ver nosso mapa!\n",
        "display(meuMap)"
      ],
      "execution_count": 34,
      "outputs": [
        {
          "output_type": "display_data",
          "data": {
            "text/html": [
              "<div style=\"width:100%;\"><div style=\"position:relative;width:100%;height:0;padding-bottom:60%;\"><iframe src=\"data:text/html;charset=utf-8;base64,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\" style=\"position:absolute;width:100%;height:100%;left:0;top:0;border:none !important;\" allowfullscreen webkitallowfullscreen mozallowfullscreen></iframe></div></div>"
            ],
            "text/plain": [
              "<folium.folium.Map at 0x7fe56ebd7438>"
            ]
          },
          "metadata": {
            "tags": []
          }
        }
      ]
    },
    {
      "cell_type": "code",
      "metadata": {
        "id": "Umu728ZK-WEQ",
        "colab_type": "code",
        "colab": {}
      },
      "source": [
        ""
      ],
      "execution_count": 0,
      "outputs": []
    },
    {
      "cell_type": "markdown",
      "metadata": {
        "id": "7KLE3FA3Bn3J",
        "colab_type": "text"
      },
      "source": [
        "## ee.Algorithms.Landsat\n",
        "\n",
        "Existem no EE alguns algoritmos específicos para Landsat.\n",
        "\n",
        "### Exemplo, covertendo para radiãncia \n",
        "\n"
      ]
    },
    {
      "cell_type": "code",
      "metadata": {
        "id": "RtXiX4zvCIdh",
        "colab_type": "code",
        "colab": {
          "base_uri": "https://localhost:8080/",
          "height": 858
        },
        "outputId": "5fed10ab-a170-4d0d-8bcd-865ebbf833dc"
      },
      "source": [
        "#Uma cena \"raw\" é uma imagem digital numbers (DNs) representando uma escala de radiância. Isso está diretamente relacionado com o tipo de pixel. (8bits, 16bits..)\n",
        "#Vejamos esse exemplo onde a gente pega uma imagem raw:\n",
        "\n",
        "raw = ee.Image('LANDSAT/LC08/C01/T1/LC08_231067_20180701');\n",
        "\n",
        "#Sensores medem a radiância - que corresponde ao brilho numa determinada direção em relação ao sensor.\n",
        "#Por isso, as imagens de radiância apresentam \"Luz difusa\" que é refletida pela atmosphera, pelas núvens e etc.\n",
        "\n",
        "#Calibramos para radiância\n",
        "\n",
        "radiance = ee.Algorithms.Landsat.calibratedRadiance(raw);\n",
        "\n",
        "#Aqui estamos mostrando uma conversão para Toa, que é capaz de desviar dos efeitos das radiações refletidas indesejadas.\n",
        "\n",
        "toa = ee.Algorithms.Landsat.TOA(raw);\n",
        "\n",
        "meuMap = folium.Map(location=[20, 0], zoom_start=3, height=800)\n",
        "\n",
        "folium.Map.add_ee_layer = add_ee_layer\n",
        "\n",
        "# Adicionando no mapa a imagem que criamos\n",
        "meuMap.add_ee_layer(raw,{'bands': ['B4', 'B3', 'B2'], 'min': 6000, 'max': 12000}, 'raw')\n",
        "\n",
        "meuMap.add_ee_layer(radiance, {'bands': ['B4', 'B3', 'B2'], 'max': 90}, 'radiance')\n",
        "\n",
        "meuMap.add_ee_layer(toa, {'bands': ['B4', 'B3', 'B2'], 'max': 0.2}, 'toa')\n",
        "\n",
        "\n",
        "# Adicionando um controlador de layers no nosso mapa\n",
        "meuMap.add_child(folium.LayerControl())\n",
        "\n",
        "#Ver nosso mapa!\n",
        "display(meuMap)"
      ],
      "execution_count": 42,
      "outputs": [
        {
          "output_type": "display_data",
          "data": {
            "text/html": [
              "<div style=\"width:100%;\"><div style=\"position:relative;width:100%;height:0;padding-bottom:60%;\"><iframe src=\"data:text/html;charset=utf-8;base64,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\" style=\"position:absolute;width:100%;height:100%;left:0;top:0;border:none !important;\" allowfullscreen webkitallowfullscreen mozallowfullscreen></iframe></div></div>"
            ],
            "text/plain": [
              "<folium.folium.Map at 0x7fe56ebd7f28>"
            ]
          },
          "metadata": {
            "tags": []
          }
        }
      ]
    },
    {
      "cell_type": "markdown",
      "metadata": {
        "id": "5NOyglPvIelq",
        "colab_type": "text"
      },
      "source": [
        "## Gerando uma composição Livre de Nuvens\n",
        "\n",
        "Continuando com os algorítmos específicos para produtos Landsat, possuímos um destinado a elaborar uma composição sem núvens das imagens!\n",
        "\n"
      ]
    },
    {
      "cell_type": "code",
      "metadata": {
        "id": "E3FwOwhyCfmZ",
        "colab_type": "code",
        "colab": {
          "base_uri": "https://localhost:8080/",
          "height": 858
        },
        "outputId": "23132a50-30c8-4ffb-85e6-593bdd9e75c9"
      },
      "source": [
        "collection = (ee.ImageCollection('LANDSAT/LT05/C01/T1')\n",
        "    .filterDate('2010-01-01', '2010-12-31'))\n",
        "\n",
        "#Composição Simples sem escolher parametros\n",
        "composite = ee.Algorithms.Landsat.simpleComposite(collection);\n",
        "\n",
        "#Composicao customizando parametros\n",
        "customComposite = ee.Algorithms.Landsat.simpleComposite(\n",
        "  collection= collection,\n",
        "  percentile= 20, #The percentile value to use when compositing each band.(default 50)\n",
        "  cloudScoreRange= 1 #The size of the range of cloud scores to accept per pixel (default =10)\n",
        ");\n",
        "\n",
        "meuMap = folium.Map(location=[20, 0], zoom_start=3, height=800)\n",
        "\n",
        "folium.Map.add_ee_layer = add_ee_layer\n",
        "\n",
        "# Adicionando no mapa a imagem que criamos\n",
        "meuMap.add_ee_layer(composite, {'bands': ['B3', 'B2', 'B1'], 'max': 128}, 'TOA composite')\n",
        "meuMap.add_ee_layer(customComposite, {'bands': ['B3', 'B2', 'B1'], 'max': 128},'Custom TOA composite')\n",
        "\n",
        "\n",
        "# Adicionando um controlador de layers no nosso mapa\n",
        "meuMap.add_child(folium.LayerControl())\n",
        "\n",
        "#Ver nosso mapa!\n",
        "display(meuMap)"
      ],
      "execution_count": 54,
      "outputs": [
        {
          "output_type": "display_data",
          "data": {
            "text/html": [
              "<div style=\"width:100%;\"><div style=\"position:relative;width:100%;height:0;padding-bottom:60%;\"><iframe src=\"data:text/html;charset=utf-8;base64,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\" style=\"position:absolute;width:100%;height:100%;left:0;top:0;border:none !important;\" allowfullscreen webkitallowfullscreen mozallowfullscreen></iframe></div></div>"
            ],
            "text/plain": [
              "<folium.folium.Map at 0x7fe56eb81390>"
            ]
          },
          "metadata": {
            "tags": []
          }
        }
      ]
    },
    {
      "cell_type": "markdown",
      "metadata": {
        "id": "AfosGVh9HB5k",
        "colab_type": "text"
      },
      "source": [
        "## Anexo:\n",
        "\n",
        "![Imagem_Radiacao](http://un-spider.org/sites/default/files/TOA.JPG)"
      ]
    }
  ]
}
