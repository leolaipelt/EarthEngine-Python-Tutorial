{
  "nbformat": 4,
  "nbformat_minor": 0,
  "metadata": {
    "colab": {
      "name": "Introducao_O_Que_e_EE.ipynb",
      "provenance": [],
      "include_colab_link": true
    },
    "kernelspec": {
      "name": "python3",
      "display_name": "Python 3"
    }
  },
  "cells": [
    {
      "cell_type": "markdown",
      "metadata": {
        "id": "view-in-github",
        "colab_type": "text"
      },
      "source": [
        "<a href=\"https://colab.research.google.com/github/leolaipelt/EarthEnginePythonBasico/blob/master/Introducao_EE.ipynb\" target=\"_parent\"><img src=\"https://colab.research.google.com/assets/colab-badge.svg\" alt=\"Open In Colab\"/></a>"
      ]
    },
    {
      "cell_type": "markdown",
      "metadata": {
        "id": "aC_znZQbFYdD",
        "colab_type": "text"
      },
      "source": [
        "# Introdução à Google Earth Enginge em Python\n",
        "\n",
        "### Autor: Leonardo Laipelt dos Santos\n",
        "### Lab: Hidrologia de Grande Escala (HGE) [Site:](https://www.ufrgs.br/hge/author/hge/)\n",
        "\n",
        "\n",
        "### Afinal, o que é o Google EarthEngine?\n",
        "\n",
        "A plataforma EarthEngine (EE) é considerada a mais avançada em geoprocessamento baseado em armazenamento em nuvem.\n",
        "\n",
        "As principais características do EE são:\n",
        "\n",
        "\n",
        "\n",
        "*   Banco de Dados: dados e imagens de sensoriamento remoto dos principais dados públicos existentes (LANDSAT, MODIS, COPERNICUS, VIIRS...).\n",
        "\n",
        "*  Poder Computacional: Toda a parte operacional é realizada através da infraestrutura computacional do Google, sendo otimizada para processamento de dados de geoprocessamento.\n",
        "\n",
        "*  APIs: Desenvolvido em Javascript e em Python, ambos disponibilizados no [GitHub.](https://github.com/google/earthengine-api)\n",
        "\n",
        "* Code Editor: Um ambiente de desenvolvimento integrado (IDE em inglês) para visualização das imagens e para desenvolvimento de códigos (em Javascript) está disponível [Aqui](https://code.earthengine.google.com/)\n",
        "\n",
        "\n",
        "## Conceitos\n",
        "\n",
        "O EE apresenta algumas diferenciações em relação a outros programas de geoprocessamento, sendo o formato de datas utlizado: Image, ImageCollection, Feature, FeatureCollection, Geometry, Reducer, Join, Array.\n",
        "\n",
        "## Image\n",
        "\n",
        "Image representa os arquivos que conhecemos com rasters. São composições com uma ou mais bandas e cada banda contem seu próprio \"name\",\"data type\", \"scale,\" mask\" e \"projections.\"\n",
        "\n",
        "## ImageCollection\n",
        "\n",
        "Uma ImageCollection é uma coletânea de imagens como, por exemplo, uma série temporal de algum produto.\n",
        "\n",
        "## Feature\n",
        "\n",
        "As Features se equivalem aos arquivos shapefiles que estamos habituados em outros programas de geoprocessamento. Contudo, nesse caso o EE armazena informações vetoriais através do formato GeoJSON. Uma Feature é um objeto que possui uma geometria (objeto Geometry no EE), representando pontos, Linhas e Polígonos, e as informações relacionadas a essas geometrias.\n",
        "\n",
        "## Reducer\n",
        "\n",
        "A função Reducer possibilita agregar informações da coletânea de dados trabalhados em relação ao espaço, tempo, bandas e etc, para obter informações uma única saída após sua operação. Assim, com o Reducer podemos obter valores de médias, medianas, mínimos, máximos, histograms e etc.\n",
        "\n",
        "## Join\n",
        "\n",
        "Join é utilizado para combinar elementos de duas ImageCollection baseado em alguma condução específica utilizando o ee.Filter (veremos mais tarde o uso do Filter). Assim, podemos combinar duas bibliotecas diferentes de dados em relação a mesma data, por exemplo.\n",
        "\n",
        "## Array\n",
        "\n",
        "Array no EE são estruturas matricias ou vetores. o EE representa vetores de 1D, matrizes de 2D,cubos de 3D ou dimensões maiores.\n",
        "\n",
        "*Baseado em:[ Google EarthEngine Tutorial](https://developers.google.com/earth-engine/tutorials) *"
      ]
    },
    {
      "cell_type": "code",
      "metadata": {
        "id": "mtH7QoL0FOFI",
        "colab_type": "code",
        "colab": {}
      },
      "source": [
        ""
      ],
      "execution_count": 0,
      "outputs": []
    },
    {
      "cell_type": "markdown",
      "metadata": {
        "id": "jP2dHoKHFSpj",
        "colab_type": "text"
      },
      "source": [
        "![alt text](https://)"
      ]
    }
  ]
}
