{
  "nbformat": 4,
  "nbformat_minor": 0,
  "metadata": {
    "colab": {
      "name": "Operacoes Condicionais e Logicas.ipynb",
      "provenance": [],
      "include_colab_link": true
    },
    "kernelspec": {
      "name": "python3",
      "display_name": "Python 3"
    }
  },
  "cells": [
    {
      "cell_type": "markdown",
      "metadata": {
        "id": "view-in-github",
        "colab_type": "text"
      },
      "source": [
        "<a href=\"https://colab.research.google.com/github/leolaipelt/EarthEnginePythonBasico/blob/master/Operacoes_Condicionais_e_Logicas.ipynb\" target=\"_parent\"><img src=\"https://colab.research.google.com/assets/colab-badge.svg\" alt=\"Open In Colab\"/></a>"
      ]
    },
    {
      "cell_type": "markdown",
      "metadata": {
        "id": "f25YgFYd40ZS",
        "colab_type": "text"
      },
      "source": [
        "# Operações Condicionais e Lógicas!\n",
        "\n",
        "Seguindo nosso estudo de EE, vamos aprender agora sobre as operações condicionais e lógicas que o EE nos permite realiza!\n",
        "\n",
        "As principais operações são:\n",
        "\n",
        "\n",
        "###  gt - Greater Than (Maior que);\n",
        "\n",
        "###  lt - Lower Than (Menor que); \n",
        "\n",
        "###  gte - Greater than or equal (Maior ou igual):\n",
        "\n",
        "### lte - Lower than or equal (Menor ou igual):\n",
        "\n",
        "\n",
        "Ainda, temos as operações lógicas:\n",
        "\n",
        "\n",
        "#### And() - E;\n",
        "#### Or() - Ou;\n",
        "\n",
        "\n",
        "\n",
        "\n",
        "\n",
        "\n",
        "\n",
        "\n",
        "\n",
        "\n",
        "\n",
        "\n",
        "\n",
        "\n",
        "\n"
      ]
    },
    {
      "cell_type": "code",
      "metadata": {
        "id": "jImXxFq73KA3",
        "colab_type": "code",
        "colab": {}
      },
      "source": [
        "!pip install earthengine-api"
      ],
      "execution_count": 0,
      "outputs": []
    },
    {
      "cell_type": "code",
      "metadata": {
        "id": "9LuPr3AX6D4B",
        "colab_type": "code",
        "colab": {}
      },
      "source": [
        "import ee; ee.Authenticate()"
      ],
      "execution_count": 0,
      "outputs": []
    },
    {
      "cell_type": "code",
      "metadata": {
        "id": "dqDm7nvT6GyR",
        "colab_type": "code",
        "colab": {}
      },
      "source": [
        "import ee\n",
        "\n",
        "ee.Initialize()"
      ],
      "execution_count": 0,
      "outputs": []
    },
    {
      "cell_type": "code",
      "metadata": {
        "id": "q52Z_RWk6QAv",
        "colab_type": "code",
        "colab": {}
      },
      "source": [
        "#Exemplo\n",
        "\n",
        "image = ee.Image('LANDSAT/LC08/C01/T1_TOA/LC08_044034_20140318');\n",
        "\n",
        "ndvi = image.normalizedDifference(['B5', 'B4']);\n",
        "ndwi = image.normalizedDifference(['B3', 'B5']);\n",
        "\n",
        "bare = ndvi.lt(0.2).And(ndwi.lt(0));\n"
      ],
      "execution_count": 0,
      "outputs": []
    },
    {
      "cell_type": "code",
      "metadata": {
        "id": "KfC9_EqG6jcv",
        "colab_type": "code",
        "colab": {}
      },
      "source": [
        "#Vamos visualizar esse produto com o mapa que já criamos!\n",
        "import folium\n",
        "\n",
        "def add_ee_layer(self,imagem,visParams, nome):\n",
        "  mapID = ee.Image(imagem).getMapId(visParams)\n",
        "  folium.raster_layers.TileLayer(\n",
        "    tiles =\"https://earthengine.googleapis.com/map/\"+mapID['mapid']+\n",
        "      \"/{z}/{x}/{y}?token=\"+mapID['token'],\n",
        "    attr = \"Nosso Mapinha do Curso de Python\",\n",
        "    name = nome,\n",
        "    overlay = True,\n",
        "    control = True\n",
        "  ).add_to(self)\n",
        "  \n",
        "meuMap = folium.Map(location=[20, 0], zoom_start=3, height=500)\n",
        "\n",
        "folium.Map.add_ee_layer = add_ee_layer"
      ],
      "execution_count": 0,
      "outputs": []
    },
    {
      "cell_type": "code",
      "metadata": {
        "id": "Zwl2-gGJ6zJg",
        "colab_type": "code",
        "colab": {
          "base_uri": "https://localhost:8080/",
          "height": 858
        },
        "outputId": "07adf7d7-f35f-4f73-cb03-ca91eb57fee7"
      },
      "source": [
        "# Adicionando no mapa a imagem que criamos\n",
        "meuMap.add_ee_layer(bare.updateMask(bare), {}, 'bare')\n",
        "\n",
        "# Adicionando um controlador de layers no nosso mapa\n",
        "meuMap.add_child(folium.LayerControl())\n",
        "\n",
        "#Ver nosso mapa!\n",
        "display(meuMap)"
      ],
      "execution_count": 19,
      "outputs": [
        {
          "output_type": "display_data",
          "data": {
            "text/html": [
              "<div style=\"width:100%;\"><div style=\"position:relative;width:100%;height:0;padding-bottom:60%;\"><iframe src=\"data:text/html;charset=utf-8;base64,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\" style=\"position:absolute;width:100%;height:100%;left:0;top:0;border:none !important;\" allowfullscreen webkitallowfullscreen mozallowfullscreen></iframe></div></div>"
            ],
            "text/plain": [
              "<folium.folium.Map at 0x7f9e935d0550>"
            ]
          },
          "metadata": {
            "tags": []
          }
        }
      ]
    }
  ]
}