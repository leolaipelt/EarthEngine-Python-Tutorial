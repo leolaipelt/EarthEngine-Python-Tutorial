{
  "nbformat": 4,
  "nbformat_minor": 0,
  "metadata": {
    "colab": {
      "name": "Iniciando_EarthEngine_Pyhton.ipynb",
      "provenance": [],
      "include_colab_link": true
    },
    "kernelspec": {
      "name": "python3",
      "display_name": "Python 3"
    }
  },
  "cells": [
    {
      "cell_type": "markdown",
      "metadata": {
        "id": "view-in-github",
        "colab_type": "text"
      },
      "source": [
        "<a href=\"https://colab.research.google.com/github/leolaipelt/EarthEnginePythonBasico/blob/master/Iniciando_com_EarthEngine_Pyhton.ipynb\" target=\"_parent\"><img src=\"https://colab.research.google.com/assets/colab-badge.svg\" alt=\"Open In Colab\"/></a>"
      ]
    },
    {
      "cell_type": "markdown",
      "metadata": {
        "id": "ZMrjjqaV1KrQ",
        "colab_type": "text"
      },
      "source": [
        "# Vamos iniciar com Geoprocessamento em Python utilizando EarthEngine!\n",
        "\n",
        "### 1º - Instalar a biblioteca utilizando !pip install earthengine-api\n",
        "### 2º - Autenticar a tua permissão para utilizar o programa \n",
        "\n",
        "    import ee\n",
        "    ee.Authenticate()\n",
        "### 3º Passo Vamos ver se funcionou!"
      ]
    },
    {
      "cell_type": "code",
      "metadata": {
        "id": "iNDVgFRp8Qm-",
        "colab_type": "code",
        "colab": {}
      },
      "source": [
        "!pip install earthengine-api"
      ],
      "execution_count": 0,
      "outputs": []
    },
    {
      "cell_type": "code",
      "metadata": {
        "id": "4TZ-NtTI0v-Q",
        "colab_type": "code",
        "colab": {}
      },
      "source": [
        "import ee\n",
        "\n",
        "ee.Authenticate()"
      ],
      "execution_count": 0,
      "outputs": []
    },
    {
      "cell_type": "code",
      "metadata": {
        "id": "l5y7M4id-gKJ",
        "colab_type": "code",
        "outputId": "cdcc4f69-b56d-416e-ce11-55fbba884f35",
        "colab": {
          "base_uri": "https://localhost:8080/",
          "height": 34
        }
      },
      "source": [
        "#Inicializando a Biblioteca EE\n",
        "\n",
        "ee.Initialize()\n",
        "\n",
        "# Descobrindo a Elevação do IPH\n",
        "dem = ee.Image('USGS/SRTMGL1_003')\n",
        "xy = ee.Geometry.Point([-51.113900,-30.076286])  #Longitude #Latitude\n",
        "elev = dem.sample(xy, 30).first().get('elevation').getInfo()\n",
        "print('O IPH esta em uma altura de (m):', elev)"
      ],
      "execution_count": 5,
      "outputs": [
        {
          "output_type": "stream",
          "text": [
            "O IPH esta em uma altura de (m): 82\n"
          ],
          "name": "stdout"
        }
      ]
    },
    {
      "cell_type": "code",
      "metadata": {
        "id": "izT2uRlx-nzk",
        "colab_type": "code",
        "colab": {}
      },
      "source": [
        "##Mas nós queremos também visualizar de alguma forma as nossas imagens!\n",
        "#O EarthEngine Javascript já vem com um visualizador construido, mas no caso do Python nós precisamos elaborar um! \n",
        "#Mas é fácil!\n",
        "\n",
        "#1º Vamos baixar uma nova biblioteca, a Folium! "
      ],
      "execution_count": 0,
      "outputs": []
    },
    {
      "cell_type": "markdown",
      "metadata": {
        "id": "cadd7M24ZpQE",
        "colab_type": "text"
      },
      "source": [
        "## Biblioteca Folium\n",
        "\n",
        "Folium é utilizado para interagir com mapas e interagir com rasters ou shapes através de páginas web. Para isso, ela foi desenvolvida a partir da bliblioteca Leaflet.js (Javascript) que desenvolveu esse tipo de visualização de mapas em página web!\n",
        "\n",
        "#### Link para acessar a página da Folium\n",
        "\n",
        "https://python-visualization.github.io/folium/\n",
        "\n",
        "### Página Leaflet.js (apenas por curiosidade)\n",
        "\n",
        "https://leafletjs.com/"
      ]
    },
    {
      "cell_type": "code",
      "metadata": {
        "id": "9THDCjKvC36r",
        "colab_type": "code",
        "colab": {}
      },
      "source": [
        "!pip install folium"
      ],
      "execution_count": 0,
      "outputs": []
    },
    {
      "cell_type": "code",
      "metadata": {
        "id": "5-Veuf4CC6TN",
        "colab_type": "code",
        "colab": {}
      },
      "source": [
        "#Agora vamos escrever uma função (def) para que o Folium possa mostrar uma imagem do earthengine no mapa!\n",
        "\n",
        "def add_ee_layer(self,imagem,visParams, nome):\n",
        "  mapID = ee.Image(imagem).getMapId(visParams)\n",
        "  folium.raster_layers.TileLayer(\n",
        "    tiles =\"https://earthengine.googleapis.com/map/\"+mapID['mapid']+\n",
        "      \"/{z}/{x}/{y}?token=\"+mapID['token'],\n",
        "    attr = \"Nosso Mapinha do Curso de Python\",\n",
        "    name = nome,\n",
        "    overlay = True,\n",
        "    control = True\n",
        "  ).add_to(self)"
      ],
      "execution_count": 0,
      "outputs": []
    },
    {
      "cell_type": "code",
      "metadata": {
        "id": "ABqge4QLDkxE",
        "colab_type": "code",
        "outputId": "f628f542-c103-4278-a227-21bec8d19c47",
        "colab": {
          "base_uri": "https://localhost:8080/",
          "height": 858
        }
      },
      "source": [
        "import folium\n",
        "\n",
        "#Agora vamos atribuir a um mapa folum\n",
        "folium.Map.add_ee_layer = add_ee_layer\n",
        "\n",
        "#Vamos pegar agora uma imagem do earthengine qualquer.\n",
        "dem = ee.Image('USGS/SRTMGL1_003')\n",
        "\n",
        "#Toda imagem precisa ter algum parametro de visualizaçao, esses parametros serao atribuidos em visParams\n",
        "\n",
        "visParams = {'min':0, 'max':3000}\n",
        "#Como escolhemos cores? Simples. Em visParams adicionamos apos min e max : 'palette':['225ea8','41b6c4','a1dab4','ffffcc']\n",
        "#visParams = {'min':0, 'max':3000,'palette':['225ea8','41b6c4','a1dab4','ffffcc']}\n",
        "\n",
        "# Criando um mapa folium\n",
        "meuMap = folium.Map(location=[20, 0], zoom_start=3, height=500)\n",
        "\n",
        "# Adicionando no mapa a imagem que criamos\n",
        "meuMap.add_ee_layer(dem, visParams, 'DEM')\n",
        "\n",
        "# Adicionando um controlador de layers no nosso mapa\n",
        "meuMap.add_child(folium.LayerControl())\n",
        "\n",
        "#Ver nosso mapa!\n",
        "display(meuMap)"
      ],
      "execution_count": 0,
      "outputs": [
        {
          "output_type": "display_data",
          "data": {
            "text/html": [
              "<div style=\"width:100%;\"><div style=\"position:relative;width:100%;height:0;padding-bottom:60%;\"><iframe src=\"data:text/html;charset=utf-8;base64,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\" style=\"position:absolute;width:100%;height:100%;left:0;top:0;border:none !important;\" allowfullscreen webkitallowfullscreen mozallowfullscreen></iframe></div></div>"
            ],
            "text/plain": [
              "<folium.folium.Map at 0x7f2b67013f60>"
            ]
          },
          "metadata": {
            "tags": []
          }
        }
      ]
    },
    {
      "cell_type": "markdown",
      "metadata": {
        "id": "tC6FimwQaV_u",
        "colab_type": "text"
      },
      "source": [
        "#### Ta mas eu não quero o Mundo Todo! Quero saber só do Brasil mesmo. Como eu faço?\n",
        "#### Temos duas opções:\n",
        "* Inserir um shapefile do meu interesse no assets do google earthengine\n",
        "* Utilizar os \"shapefiles\" que temos disponíveis no datasets do earthengine!\n",
        "\n"
      ]
    },
    {
      "cell_type": "code",
      "metadata": {
        "id": "qbNaTWCwGfzX",
        "colab_type": "code",
        "colab": {}
      },
      "source": [
        "#Vamos utilizar um dataset já disponível!\n",
        "\n",
        "FakeShapefilePaises = (ee.FeatureCollection('USDOS/LSIB_SIMPLE/2017')\n",
        "      .filterMetadata('country_na', 'equals', 'Brazil'))\n"
      ],
      "execution_count": 0,
      "outputs": []
    },
    {
      "cell_type": "code",
      "metadata": {
        "id": "TPEIl9NjGns3",
        "colab_type": "code",
        "colab": {}
      },
      "source": [
        "Brazil_DEM=dem.clip(FakeShapefilePaises)"
      ],
      "execution_count": 0,
      "outputs": []
    },
    {
      "cell_type": "code",
      "metadata": {
        "id": "qMefyeCyGtE3",
        "colab_type": "code",
        "outputId": "693358b3-61f6-45ae-acc9-16ac6498ffdf",
        "colab": {
          "base_uri": "https://localhost:8080/",
          "height": 858
        }
      },
      "source": [
        "meuMap = folium.Map(location=[20, 0], zoom_start=3, height=500)\n",
        "\n",
        "# Adicionando no mapa a imagem que criamos\n",
        "meuMap.add_ee_layer(Brazil_DEM, visParams, 'DEM_BRASIL')\n",
        "# Adicionando um controlador de layers no nosso mapa\n",
        "meuMap.add_child(folium.LayerControl())\n",
        "#Ver nosso mapa!\n",
        "display(meuMap)"
      ],
      "execution_count": 0,
      "outputs": [
        {
          "output_type": "display_data",
          "data": {
            "text/html": [
              "<div style=\"width:100%;\"><div style=\"position:relative;width:100%;height:0;padding-bottom:60%;\"><iframe src=\"data:text/html;charset=utf-8;base64,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\" style=\"position:absolute;width:100%;height:100%;left:0;top:0;border:none !important;\" allowfullscreen webkitallowfullscreen mozallowfullscreen></iframe></div></div>"
            ],
            "text/plain": [
              "<folium.folium.Map at 0x7f2b66fb3940>"
            ]
          },
          "metadata": {
            "tags": []
          }
        }
      ]
    },
    {
      "cell_type": "markdown",
      "metadata": {
        "id": "GCFc2ZSFaimN",
        "colab_type": "text"
      },
      "source": [
        "### Ah não sei. Isso ai eu fazia baixando no LabGeo as informacoes e eu nao precisava programar. Odeio Programar.\n",
        "#### Ok. Vamos dar mais um passo no nosso conhecimento de EarthEngine\n",
        "#Vamos mexer com ImageCollections!\n",
        "\n",
        "O que é um Image Collection? É uma biblioteca com diversas imagens! Ou seja:\n",
        "\n",
        "### Uma imagem é um \"image\" no EE, que pode ter diversas bandas (B1,B2,B3,B4).\n",
        "\n",
        "Uma coleção de imagens \"ImageCollection\" pode possuir diversas imagens (variando por ano,mes,dia,horas..) e cada uma dessas imagens podem ter diversas bandas!!\n",
        "\n",
        "Vamos mexer então com a ImageCollection da Landsat!\n",
        "\n",
        "A ideia é Calcular o NDVI medio para um ano inteiro. Para TODAS as imagens que o Landsat produziu para o Brasil!"
      ]
    },
    {
      "cell_type": "code",
      "metadata": {
        "id": "PCvCkHcJILF1",
        "colab_type": "code",
        "colab": {}
      },
      "source": [
        "#Primeira coisa, vamos chamar uma biblioteca do Landsat\n",
        "\n",
        "L8SR= ee.ImageCollection('LANDSAT/LC08/C01/T1_SR')\n",
        "\n",
        "#Vamos Escolher as Datas que nos interessa e depois faze a media delas com o comando mean()\n",
        "\n",
        "Image = L8SR.filterDate('2018-01-01', '2018-12-31').mean()\n"
      ],
      "execution_count": 0,
      "outputs": []
    },
    {
      "cell_type": "code",
      "metadata": {
        "id": "Mzxqx1gbIrRE",
        "colab_type": "code",
        "colab": {}
      },
      "source": [
        "#Por enquanto, nós fizemos isso para #TODAS as imagens da Coleção Tier1 de Surface Reflectance que existem do LANDSAT entre jan de 2018 a dez de 2018\n",
        "#Como ja temos nosso fakeShape do Brasil, temos que realizar o corte com o comando clip!\n",
        "\n",
        "LANDSAT_Corte=Image.clip(FakeShapefilePaises)"
      ],
      "execution_count": 0,
      "outputs": []
    },
    {
      "cell_type": "code",
      "metadata": {
        "id": "H-UXf3LOJDKN",
        "colab_type": "code",
        "colab": {}
      },
      "source": [
        "#Agora, vamos calcular o NDVI utilizando uma funcao muito legal do EE que é normalizedDifference\n",
        "\n",
        "NDVI =  LANDSAT_Corte.normalizedDifference(['B5', 'B4']).rename('NDVI'); #Pq dividir por 10000? Porque é a contante para as bandas do LANDSAT\n"
      ],
      "execution_count": 0,
      "outputs": []
    },
    {
      "cell_type": "code",
      "metadata": {
        "id": "ky7mym5NKAXL",
        "colab_type": "code",
        "outputId": "0ec255d1-c2ff-4cfe-b65b-9ff2810f3861",
        "colab": {
          "base_uri": "https://localhost:8080/",
          "height": 858
        }
      },
      "source": [
        "meuMap = folium.Map(location=[20, 0], zoom_start=3, height=500)\n",
        "\n",
        "visParams={\"palette\": \"0000cc,0066cc,00cccc,0033cc,0033cc,cc6600,cc9900,cccc00,99cc00,66cc00\"}\n",
        "# Adicionando no mapa a imagem que criamos\n",
        "meuMap.add_ee_layer(NDVI, visParams, 'NDVI_BRASIL')\n",
        "# Adicionando um controlador de layers no nosso mapa\n",
        "meuMap.add_child(folium.LayerControl())\n",
        "#Ver nosso mapa!\n",
        "display(meuMap)"
      ],
      "execution_count": 0,
      "outputs": [
        {
          "output_type": "display_data",
          "data": {
            "text/html": [
              "<div style=\"width:100%;\"><div style=\"position:relative;width:100%;height:0;padding-bottom:60%;\"><iframe src=\"data:text/html;charset=utf-8;base64,PCFET0NUWVBFIGh0bWw+CjxoZWFkPiAgICAKICAgIDxtZXRhIGh0dHAtZXF1aXY9ImNvbnRlbnQtdHlwZSIgY29udGVudD0idGV4dC9odG1sOyBjaGFyc2V0PVVURi04IiAvPgogICAgPHNjcmlwdD5MX1BSRUZFUl9DQU5WQVM9ZmFsc2U7IExfTk9fVE9VQ0g9ZmFsc2U7IExfRElTQUJMRV8zRD1mYWxzZTs8L3NjcmlwdD4KICAgIDxzY3JpcHQgc3JjPSJodHRwczovL2Nkbi5qc2RlbGl2ci5uZXQvbnBtL2xlYWZsZXRAMS40LjAvZGlzdC9sZWFmbGV0LmpzIj48L3NjcmlwdD4KICAgIDxzY3JpcHQgc3JjPSJodHRwczovL2NvZGUuanF1ZXJ5LmNvbS9qcXVlcnktMS4xMi40Lm1pbi5qcyI+PC9zY3JpcHQ+CiAgICA8c2NyaXB0IHNyYz0iaHR0cHM6Ly9tYXhjZG4uYm9vdHN0cmFwY2RuLmNvbS9ib290c3RyYXAvMy4yLjAvanMvYm9vdHN0cmFwLm1pbi5qcyI+PC9zY3JpcHQ+CiAgICA8c2NyaXB0IHNyYz0iaHR0cHM6Ly9jZG5qcy5jbG91ZGZsYXJlLmNvbS9hamF4L2xpYnMvTGVhZmxldC5hd2Vzb21lLW1hcmtlcnMvMi4wLjIvbGVhZmxldC5hd2Vzb21lLW1hcmtlcnMuanMiPjwvc2NyaXB0PgogICAgPGxpbmsgcmVsPSJzdHlsZXNoZWV0IiBocmVmPSJodHRwczovL2Nkbi5qc2RlbGl2ci5uZXQvbnBtL2xlYWZsZXRAMS40LjAvZGlzdC9sZWFmbGV0LmNzcyIvPgogICAgPGxpbmsgcmVsPSJzdHlsZXNoZWV0IiBocmVmPSJodHRwczovL21heGNkbi5ib290c3RyYXBjZG4uY29tL2Jvb3RzdHJhcC8zLjIuMC9jc3MvYm9vdHN0cmFwLm1pbi5jc3MiLz4KICAgIDxsaW5rIHJlbD0ic3R5bGVzaGVldCIgaHJlZj0iaHR0cHM6Ly9tYXhjZG4uYm9vdHN0cmFwY2RuLmNvbS9ib290c3RyYXAvMy4yLjAvY3NzL2Jvb3RzdHJhcC10aGVtZS5taW4uY3NzIi8+CiAgICA8bGluayByZWw9InN0eWxlc2hlZXQiIGhyZWY9Imh0dHBzOi8vbWF4Y2RuLmJvb3RzdHJhcGNkbi5jb20vZm9udC1hd2Vzb21lLzQuNi4zL2Nzcy9mb250LWF3ZXNvbWUubWluLmNzcyIvPgogICAgPGxpbmsgcmVsPSJzdHlsZXNoZWV0IiBocmVmPSJodHRwczovL2NkbmpzLmNsb3VkZmxhcmUuY29tL2FqYXgvbGlicy9MZWFmbGV0LmF3ZXNvbWUtbWFya2Vycy8yLjAuMi9sZWFmbGV0LmF3ZXNvbWUtbWFya2Vycy5jc3MiLz4KICAgIDxsaW5rIHJlbD0ic3R5bGVzaGVldCIgaHJlZj0iaHR0cHM6Ly9yYXdjZG4uZ2l0aGFjay5jb20vcHl0aG9uLXZpc3VhbGl6YXRpb24vZm9saXVtL21hc3Rlci9mb2xpdW0vdGVtcGxhdGVzL2xlYWZsZXQuYXdlc29tZS5yb3RhdGUuY3NzIi8+CiAgICA8c3R5bGU+aHRtbCwgYm9keSB7d2lkdGg6IDEwMCU7aGVpZ2h0OiAxMDAlO21hcmdpbjogMDtwYWRkaW5nOiAwO308L3N0eWxlPgogICAgPHN0eWxlPiNtYXAge3Bvc2l0aW9uOmFic29sdXRlO3RvcDowO2JvdHRvbTowO3JpZ2h0OjA7bGVmdDowO308L3N0eWxlPgogICAgCiAgICA8bWV0YSBuYW1lPSJ2aWV3cG9ydCIgY29udGVudD0id2lkdGg9ZGV2aWNlLXdpZHRoLAogICAgICAgIGluaXRpYWwtc2NhbGU9MS4wLCBtYXhpbXVtLXNjYWxlPTEuMCwgdXNlci1zY2FsYWJsZT1ubyIgLz4KICAgIDxzdHlsZT4jbWFwX2NjZWNlZTE3NjU3YTQ1MjFhODA5YjI4ZDVhOGI2N2NhIHsKICAgICAgICBwb3NpdGlvbjogcmVsYXRpdmU7CiAgICAgICAgd2lkdGg6IDEwMC4wJTsKICAgICAgICBoZWlnaHQ6IDUwMC4wcHg7CiAgICAgICAgbGVmdDogMC4wJTsKICAgICAgICB0b3A6IDAuMCU7CiAgICAgICAgfQogICAgPC9zdHlsZT4KPC9oZWFkPgo8Ym9keT4gICAgCiAgICAKICAgIDxkaXYgY2xhc3M9ImZvbGl1bS1tYXAiIGlkPSJtYXBfY2NlY2VlMTc2NTdhNDUyMWE4MDliMjhkNWE4YjY3Y2EiID48L2Rpdj4KPC9ib2R5Pgo8c2NyaXB0PiAgICAKICAgIAogICAgCiAgICAgICAgdmFyIGJvdW5kcyA9IG51bGw7CiAgICAKCiAgICB2YXIgbWFwX2NjZWNlZTE3NjU3YTQ1MjFhODA5YjI4ZDVhOGI2N2NhID0gTC5tYXAoCiAgICAgICAgJ21hcF9jY2VjZWUxNzY1N2E0NTIxYTgwOWIyOGQ1YThiNjdjYScsIHsKICAgICAgICBjZW50ZXI6IFsyMCwgMF0sCiAgICAgICAgem9vbTogMywKICAgICAgICBtYXhCb3VuZHM6IGJvdW5kcywKICAgICAgICBsYXllcnM6IFtdLAogICAgICAgIHdvcmxkQ29weUp1bXA6IGZhbHNlLAogICAgICAgIGNyczogTC5DUlMuRVBTRzM4NTcsCiAgICAgICAgem9vbUNvbnRyb2w6IHRydWUsCiAgICAgICAgfSk7CgoKICAgIAogICAgdmFyIHRpbGVfbGF5ZXJfZTFjNTcwZWE2M2IxNGI5OGFkMWE1NDA0NTM5ZjgyZTMgPSBMLnRpbGVMYXllcigKICAgICAgICAnaHR0cHM6Ly97c30udGlsZS5vcGVuc3RyZWV0bWFwLm9yZy97en0ve3h9L3t5fS5wbmcnLAogICAgICAgIHsKICAgICAgICAiYXR0cmlidXRpb24iOiBudWxsLAogICAgICAgICJkZXRlY3RSZXRpbmEiOiBmYWxzZSwKICAgICAgICAibWF4TmF0aXZlWm9vbSI6IDE4LAogICAgICAgICJtYXhab29tIjogMTgsCiAgICAgICAgIm1pblpvb20iOiAwLAogICAgICAgICJub1dyYXAiOiBmYWxzZSwKICAgICAgICAib3BhY2l0eSI6IDEsCiAgICAgICAgInN1YmRvbWFpbnMiOiAiYWJjIiwKICAgICAgICAidG1zIjogZmFsc2UKfSkuYWRkVG8obWFwX2NjZWNlZTE3NjU3YTQ1MjFhODA5YjI4ZDVhOGI2N2NhKTsKICAgIHZhciB0aWxlX2xheWVyXzZkMTViMjE4NDlmMjRiZmVhYmZlNGQzNDU4NzQyNWFjID0gTC50aWxlTGF5ZXIoCiAgICAgICAgJ2h0dHBzOi8vZWFydGhlbmdpbmUuZ29vZ2xlYXBpcy5jb20vbWFwL2Y0YzVmOWU4MDNkMGUzZTcwNDRkODQzNDZhMmE1NTM1L3t6fS97eH0ve3l9P3Rva2VuPTFjMzgwYTNlMzk4OGU0NThiN2M1NDljNTM5NWYzNzQ0JywKICAgICAgICB7CiAgICAgICAgImF0dHJpYnV0aW9uIjogIk5vc3NvIE1hcGluaGEgZG8gQ3Vyc28gZGUgUHl0aG9uIiwKICAgICAgICAiZGV0ZWN0UmV0aW5hIjogZmFsc2UsCiAgICAgICAgIm1heE5hdGl2ZVpvb20iOiAxOCwKICAgICAgICAibWF4Wm9vbSI6IDE4LAogICAgICAgICJtaW5ab29tIjogMCwKICAgICAgICAibm9XcmFwIjogZmFsc2UsCiAgICAgICAgIm9wYWNpdHkiOiAxLAogICAgICAgICJzdWJkb21haW5zIjogImFiYyIsCiAgICAgICAgInRtcyI6IGZhbHNlCn0pLmFkZFRvKG1hcF9jY2VjZWUxNzY1N2E0NTIxYTgwOWIyOGQ1YThiNjdjYSk7CiAgICAKICAgICAgICAgICAgdmFyIGxheWVyX2NvbnRyb2xfYWI0ZmY4NTM0OTVhNGM2OTlmMDkyYWYwMmM5ZDU1MjEgPSB7CiAgICAgICAgICAgICAgICBiYXNlX2xheWVycyA6IHsgIm9wZW5zdHJlZXRtYXAiIDogdGlsZV9sYXllcl9lMWM1NzBlYTYzYjE0Yjk4YWQxYTU0MDQ1MzlmODJlMywgfSwKICAgICAgICAgICAgICAgIG92ZXJsYXlzIDogeyAiTkRWSV9CUkFTSUwiIDogdGlsZV9sYXllcl82ZDE1YjIxODQ5ZjI0YmZlYWJmZTRkMzQ1ODc0MjVhYywgfQogICAgICAgICAgICAgICAgfTsKICAgICAgICAgICAgTC5jb250cm9sLmxheWVycygKICAgICAgICAgICAgICAgIGxheWVyX2NvbnRyb2xfYWI0ZmY4NTM0OTVhNGM2OTlmMDkyYWYwMmM5ZDU1MjEuYmFzZV9sYXllcnMsCiAgICAgICAgICAgICAgICBsYXllcl9jb250cm9sX2FiNGZmODUzNDk1YTRjNjk5ZjA5MmFmMDJjOWQ1NTIxLm92ZXJsYXlzLAogICAgICAgICAgICAgICAge3Bvc2l0aW9uOiAndG9wcmlnaHQnLAogICAgICAgICAgICAgICAgIGNvbGxhcHNlZDogdHJ1ZSwKICAgICAgICAgICAgICAgICBhdXRvWkluZGV4OiB0cnVlCiAgICAgICAgICAgICAgICB9KS5hZGRUbyhtYXBfY2NlY2VlMTc2NTdhNDUyMWE4MDliMjhkNWE4YjY3Y2EpOwogICAgICAgICAgICAKICAgICAgICAKPC9zY3JpcHQ+\" style=\"position:absolute;width:100%;height:100%;left:0;top:0;border:none !important;\" allowfullscreen webkitallowfullscreen mozallowfullscreen></iframe></div></div>"
            ],
            "text/plain": [
              "<folium.folium.Map at 0x7f2b6701f390>"
            ]
          },
          "metadata": {
            "tags": []
          }
        }
      ]
    },
    {
      "cell_type": "code",
      "metadata": {
        "id": "qgqVj_pxM-HV",
        "colab_type": "code",
        "outputId": "ced5cb63-3ff8-460d-bfb0-1a00ce829deb",
        "colab": {
          "base_uri": "https://localhost:8080/",
          "height": 858
        }
      },
      "source": [
        "#E se a gente quiser ver apenas uma faixa de NDVI. Como que faz?\n",
        "meuMap = folium.Map(location=[20, 0], zoom_start=3, height=500)\n",
        "\n",
        "visParams={\"palette\": \"0000cc,0066cc,00cccc,0033cc,0033cc,cc6600,cc9900,cccc00,99cc00,66cc00\"}\n",
        "#Assim\n",
        "NDVIMaior = NDVI.updateMask(NDVI.gte(0.4)) #gte significa Greater than or equal # se quisermos um numero menor que algo ou igual, usamos lte (lower than or equal)\n",
        "\n",
        "meuMap.add_ee_layer(NDVIMaior, visParams, 'NDVI_MAIOR04')\n",
        "# Adicionando um controlador de layers no nosso mapa\n",
        "meuMap.add_child(folium.LayerControl())\n",
        "#Ver nosso mapa!\n",
        "display(meuMap)"
      ],
      "execution_count": 0,
      "outputs": [
        {
          "output_type": "display_data",
          "data": {
            "text/html": [
              "<div style=\"width:100%;\"><div style=\"position:relative;width:100%;height:0;padding-bottom:60%;\"><iframe src=\"data:text/html;charset=utf-8;base64,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\" style=\"position:absolute;width:100%;height:100%;left:0;top:0;border:none !important;\" allowfullscreen webkitallowfullscreen mozallowfullscreen></iframe></div></div>"
            ],
            "text/plain": [
              "<folium.folium.Map at 0x7f2b66f52d30>"
            ]
          },
          "metadata": {
            "tags": []
          }
        }
      ]
    },
    {
      "cell_type": "markdown",
      "metadata": {
        "id": "YuJ31GqysH8-",
        "colab_type": "text"
      },
      "source": [
        "Vamos agora dar uma olhada em como podemos acessas algumas informações relevantes das Imagens."
      ]
    },
    {
      "cell_type": "code",
      "metadata": {
        "id": "1xu1_WjCKLBY",
        "colab_type": "code",
        "outputId": "dd8d12dc-0d2b-43a2-cd6f-c1739a10cdd4",
        "colab": {
          "base_uri": "https://localhost:8080/",
          "height": 67
        }
      },
      "source": [
        "#Exemplo de Imagem\n",
        "\n",
        "image = ee.Image('LANDSAT/LC08/C01/T1/LC08_044034_20140318')\n",
        "\n",
        "#Buscando informações das Bandas da imagem\n",
        "bandNames = image.bandNames()\n",
        "print(bandNames.getInfo())\n",
        "\n",
        "# Para saber a Projeção\n",
        "b1proj = image.select('B1').projection()\n",
        "print( b1proj.getInfo())\n",
        "\n",
        "#Escala (em metros)\n",
        "b1scale = image.select('B1').projection().nominalScale()\n",
        "print( b1scale.getInfo()) "
      ],
      "execution_count": 9,
      "outputs": [
        {
          "output_type": "stream",
          "text": [
            "['B1', 'B2', 'B3', 'B4', 'B5', 'B6', 'B7', 'B8', 'B9', 'B10', 'B11', 'BQA']\n",
            "{'type': 'Projection', 'crs': 'EPSG:32610', 'transform': [30.0, 0.0, 460785.0, 0.0, -30.0, 4264215.0]}\n",
            "30.0\n"
          ],
          "name": "stdout"
        }
      ]
    },
    {
      "cell_type": "code",
      "metadata": {
        "id": "3m3QGhWEQhdk",
        "colab_type": "code",
        "outputId": "0c9705fc-dac2-45ed-8588-d1900c42cf45",
        "colab": {
          "base_uri": "https://localhost:8080/",
          "height": 1000
        }
      },
      "source": [
        "# SE a gente quiser consultar todos os Metadados podemos fazer o seguinte:\n",
        "metadados = image.propertyNames()\n",
        "metadados.getInfo() "
      ],
      "execution_count": 10,
      "outputs": [
        {
          "output_type": "execute_result",
          "data": {
            "text/plain": [
              "['RADIANCE_MULT_BAND_5',\n",
              " 'RADIANCE_MULT_BAND_6',\n",
              " 'RADIANCE_MULT_BAND_3',\n",
              " 'RADIANCE_MULT_BAND_4',\n",
              " 'RADIANCE_MULT_BAND_1',\n",
              " 'RADIANCE_MULT_BAND_2',\n",
              " 'system:id',\n",
              " 'K2_CONSTANT_BAND_11',\n",
              " 'K2_CONSTANT_BAND_10',\n",
              " 'system:footprint',\n",
              " 'REFLECTIVE_SAMPLES',\n",
              " 'SUN_AZIMUTH',\n",
              " 'CPF_NAME',\n",
              " 'DATE_ACQUIRED',\n",
              " 'ELLIPSOID',\n",
              " 'google:registration_offset_x',\n",
              " 'google:registration_offset_y',\n",
              " 'STATION_ID',\n",
              " 'RESAMPLING_OPTION',\n",
              " 'ORIENTATION',\n",
              " 'WRS_ROW',\n",
              " 'RADIANCE_MULT_BAND_9',\n",
              " 'TARGET_WRS_ROW',\n",
              " 'RADIANCE_MULT_BAND_7',\n",
              " 'RADIANCE_MULT_BAND_8',\n",
              " 'IMAGE_QUALITY_TIRS',\n",
              " 'TRUNCATION_OLI',\n",
              " 'CLOUD_COVER',\n",
              " 'GEOMETRIC_RMSE_VERIFY',\n",
              " 'COLLECTION_CATEGORY',\n",
              " 'GRID_CELL_SIZE_REFLECTIVE',\n",
              " 'CLOUD_COVER_LAND',\n",
              " 'GEOMETRIC_RMSE_MODEL',\n",
              " 'COLLECTION_NUMBER',\n",
              " 'IMAGE_QUALITY_OLI',\n",
              " 'LANDSAT_SCENE_ID',\n",
              " 'WRS_PATH',\n",
              " 'google:registration_count',\n",
              " 'PANCHROMATIC_SAMPLES',\n",
              " 'PANCHROMATIC_LINES',\n",
              " 'GEOMETRIC_RMSE_MODEL_Y',\n",
              " 'REFLECTIVE_LINES',\n",
              " 'TIRS_STRAY_LIGHT_CORRECTION_SOURCE',\n",
              " 'GEOMETRIC_RMSE_MODEL_X',\n",
              " 'system:asset_size',\n",
              " 'system:index',\n",
              " 'REFLECTANCE_ADD_BAND_1',\n",
              " 'REFLECTANCE_ADD_BAND_2',\n",
              " 'DATUM',\n",
              " 'REFLECTANCE_ADD_BAND_3',\n",
              " 'REFLECTANCE_ADD_BAND_4',\n",
              " 'RLUT_FILE_NAME',\n",
              " 'REFLECTANCE_ADD_BAND_5',\n",
              " 'REFLECTANCE_ADD_BAND_6',\n",
              " 'REFLECTANCE_ADD_BAND_7',\n",
              " 'REFLECTANCE_ADD_BAND_8',\n",
              " 'BPF_NAME_TIRS',\n",
              " 'system:version',\n",
              " 'GROUND_CONTROL_POINTS_VERSION',\n",
              " 'DATA_TYPE',\n",
              " 'UTM_ZONE',\n",
              " 'LANDSAT_PRODUCT_ID',\n",
              " 'REFLECTANCE_ADD_BAND_9',\n",
              " 'google:registration_ratio',\n",
              " 'GRID_CELL_SIZE_PANCHROMATIC',\n",
              " 'RADIANCE_ADD_BAND_4',\n",
              " 'REFLECTANCE_MULT_BAND_7',\n",
              " 'system:time_start',\n",
              " 'RADIANCE_ADD_BAND_5',\n",
              " 'REFLECTANCE_MULT_BAND_6',\n",
              " 'RADIANCE_ADD_BAND_6',\n",
              " 'REFLECTANCE_MULT_BAND_9',\n",
              " 'PROCESSING_SOFTWARE_VERSION',\n",
              " 'RADIANCE_ADD_BAND_7',\n",
              " 'REFLECTANCE_MULT_BAND_8',\n",
              " 'RADIANCE_ADD_BAND_1',\n",
              " 'RADIANCE_ADD_BAND_2',\n",
              " 'RADIANCE_ADD_BAND_3',\n",
              " 'REFLECTANCE_MULT_BAND_1',\n",
              " 'RADIANCE_ADD_BAND_8',\n",
              " 'REFLECTANCE_MULT_BAND_3',\n",
              " 'RADIANCE_ADD_BAND_9',\n",
              " 'REFLECTANCE_MULT_BAND_2',\n",
              " 'REFLECTANCE_MULT_BAND_5',\n",
              " 'REFLECTANCE_MULT_BAND_4',\n",
              " 'THERMAL_LINES',\n",
              " 'TIRS_SSM_POSITION_STATUS',\n",
              " 'GRID_CELL_SIZE_THERMAL',\n",
              " 'NADIR_OFFNADIR',\n",
              " 'RADIANCE_ADD_BAND_11',\n",
              " 'REQUEST_ID',\n",
              " 'EARTH_SUN_DISTANCE',\n",
              " 'TIRS_SSM_MODEL',\n",
              " 'FILE_DATE',\n",
              " 'SCENE_CENTER_TIME',\n",
              " 'SUN_ELEVATION',\n",
              " 'BPF_NAME_OLI',\n",
              " 'RADIANCE_ADD_BAND_10',\n",
              " 'ROLL_ANGLE',\n",
              " 'K1_CONSTANT_BAND_10',\n",
              " 'SATURATION_BAND_1',\n",
              " 'SATURATION_BAND_2',\n",
              " 'SATURATION_BAND_3',\n",
              " 'SATURATION_BAND_4',\n",
              " 'SATURATION_BAND_5',\n",
              " 'MAP_PROJECTION',\n",
              " 'SATURATION_BAND_6',\n",
              " 'SENSOR_ID',\n",
              " 'SATURATION_BAND_7',\n",
              " 'K1_CONSTANT_BAND_11',\n",
              " 'SATURATION_BAND_8',\n",
              " 'SATURATION_BAND_9',\n",
              " 'TARGET_WRS_PATH',\n",
              " 'RADIANCE_MULT_BAND_11',\n",
              " 'RADIANCE_MULT_BAND_10',\n",
              " 'GROUND_CONTROL_POINTS_MODEL',\n",
              " 'SPACECRAFT_ID',\n",
              " 'ELEVATION_SOURCE',\n",
              " 'THERMAL_SAMPLES',\n",
              " 'GROUND_CONTROL_POINTS_VERIFY',\n",
              " 'system:bands',\n",
              " 'system:band_names']"
            ]
          },
          "metadata": {
            "tags": []
          },
          "execution_count": 10
        }
      ]
    },
    {
      "cell_type": "code",
      "metadata": {
        "id": "MPsfaxmfQkNn",
        "colab_type": "code",
        "outputId": "c8a75c17-520a-4816-f0d2-cf1ac7da5d51",
        "colab": {
          "base_uri": "https://localhost:8080/",
          "height": 50
        }
      },
      "source": [
        "#Se quisermos uma informação específica do Metadados, podemos usar a função get\n",
        "print(\"Usando a função get:\")\n",
        "cobertura_de_nuvens = image.get('CLOUD_COVER')\n",
        "cobertura_de_nuvens.getInfo() \n",
        "\n"
      ],
      "execution_count": 25,
      "outputs": [
        {
          "output_type": "stream",
          "text": [
            "Usando a função get:\n"
          ],
          "name": "stdout"
        },
        {
          "output_type": "execute_result",
          "data": {
            "text/plain": [
              "0.06"
            ]
          },
          "metadata": {
            "tags": []
          },
          "execution_count": 25
        }
      ]
    },
    {
      "cell_type": "code",
      "metadata": {
        "id": "OYol34utQolF",
        "colab_type": "code",
        "colab": {}
      },
      "source": [
        "# Load two 5-year Landsat 7 composites.\n",
        "landsat1999 = ee.Image('LANDSAT/LE7_TOA_5YEAR/1999_2003')\n",
        "landsat2008 = ee.Image('LANDSAT/LE7_TOA_5YEAR/2008_2012')\n",
        "\n",
        "# Compute NDVI the hard way.\n",
        "ndvi1999 = landsat1999.select('B4')\\\n",
        "                      .subtract(landsat1999.select('B3'))\\\n",
        "                      .divide(landsat1999.select('B4').add(landsat1999.select('B3')))\n",
        "\n",
        "# Compute NDVI the easy way.\n",
        "ndvi2008 = landsat2008.normalizedDifference(['B4', 'B3'])"
      ],
      "execution_count": 0,
      "outputs": []
    },
    {
      "cell_type": "code",
      "metadata": {
        "id": "pC36rnZgSo_N",
        "colab_type": "code",
        "colab": {}
      },
      "source": [
        "# Load a Landsat 8 image.\n",
        "image = ee.Image('LANDSAT/LC08/C01/T1_TOA/LC08_044034_20140318')\n",
        "\n",
        "# Create NDVI and NDWI spectral indices.\n",
        "ndvi = image.normalizedDifference(['B5', 'B4'])\n",
        "ndwi = image.normalizedDifference(['B3', 'B5'])\n",
        "\n",
        "# Create a binary layer using logical operations.\n",
        "bare = ndvi.lt(0.2).And(ndwi.lt(0))\n",
        "\n",
        "bare = bare.updateMask(bare)"
      ],
      "execution_count": 0,
      "outputs": []
    },
    {
      "cell_type": "code",
      "metadata": {
        "id": "UpBG1Bc1SuK6",
        "colab_type": "code",
        "colab": {}
      },
      "source": [
        ""
      ],
      "execution_count": 0,
      "outputs": []
    }
  ]
}
