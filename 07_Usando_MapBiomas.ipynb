{
  "nbformat": 4,
  "nbformat_minor": 0,
  "metadata": {
    "colab": {
      "name": "Usando_MapBiomas.ipynb",
      "provenance": [],
      "include_colab_link": true
    },
    "kernelspec": {
      "name": "python3",
      "display_name": "Python 3"
    }
  },
  "cells": [
    {
      "cell_type": "markdown",
      "metadata": {
        "id": "view-in-github",
        "colab_type": "text"
      },
      "source": [
        "<a href=\"https://colab.research.google.com/github/leolaipelt/EarthEnginePythonBasico/blob/master/Usando_MapBiomas.ipynb\" target=\"_parent\"><img src=\"https://colab.research.google.com/assets/colab-badge.svg\" alt=\"Open In Colab\"/></a>"
      ]
    },
    {
      "cell_type": "markdown",
      "metadata": {
        "id": "Nqd5RGCyuWoB",
        "colab_type": "text"
      },
      "source": [
        "# Usando o MapBiomas\n",
        "\n",
        "O projeto MapBiomas é um iniciativa brasileira de mapeamento anual da Cobertura do Solo do Brasil. Através de sensoriamento remoto e utilizando o EarthEngine para processamento, o projeto possui uma série história desde 1985-atual da cobertura e uso da terra do Brasil.\n",
        "\n",
        "## Saiba mais sobre o projeto\n",
        "\n",
        "[MapBiomas.org](http://mapbiomas.org/o-que-e-o-mapbiomas)\n",
        "\n",
        "### Como acessar as informações do MapBiomas\n",
        "\n",
        "O projeto, atualmente, está em sua versão 4.0, e podemos acessá-la através do seguinte link do programa no EE:\n",
        "\n",
        "*'projects/mapbiomas-workspace/public/collection4/mapbiomas_collection40_integration_v1'*\n",
        "\n",
        "Para issom vamos criar um pequeno visualizados dessas informações. Cada banda do link superior corresponde a um ano de mapeamento. (Ex: bands [\"classification_2018\",\"classification_2017\"]).\n",
        "\n"
      ]
    },
    {
      "cell_type": "code",
      "metadata": {
        "id": "1yT7qP3-uTTk",
        "colab_type": "code",
        "colab": {}
      },
      "source": [
        "!pip install earthengine-api"
      ],
      "execution_count": 0,
      "outputs": []
    },
    {
      "cell_type": "code",
      "metadata": {
        "id": "Cpk-ZUg1whCE",
        "colab_type": "code",
        "colab": {}
      },
      "source": [
        "import ee; ee.Authenticate()"
      ],
      "execution_count": 0,
      "outputs": []
    },
    {
      "cell_type": "code",
      "metadata": {
        "id": "Y1LE00N0vHrF",
        "colab_type": "code",
        "colab": {}
      },
      "source": [
        "#Precisamos de um visualizador de imagens! Logo, iremos utilizar o que já elaboramos com a biblioteca Folium!\n",
        "\n",
        "import folium\n",
        "\n",
        "def add_ee_layer(self,imagem,visParams, nome):\n",
        "  mapID = ee.Image(imagem).getMapId(visParams)\n",
        "  folium.raster_layers.TileLayer(\n",
        "    tiles =\"https://earthengine.googleapis.com/map/\"+mapID['mapid']+\n",
        "      \"/{z}/{x}/{y}?token=\"+mapID['token'],\n",
        "    attr = \"Nosso Mapinha do Curso de Python\",\n",
        "    name = nome,\n",
        "    overlay = True,\n",
        "    control = True\n",
        "  ).add_to(self)\n",
        "  \n",
        "meuMap = folium.Map(location=[20, 0], zoom_start=3, height=800)\n",
        "\n",
        "folium.Map.add_ee_layer = add_ee_layer"
      ],
      "execution_count": 0,
      "outputs": []
    },
    {
      "cell_type": "code",
      "metadata": {
        "id": "az3yV8rEwOx8",
        "colab_type": "code",
        "colab": {}
      },
      "source": [
        "ee.Initialize()\n",
        "\n",
        "MapBiomasProjeto=(ee.Image('projects/mapbiomas-workspace/public/collection4/mapbiomas_collection40_integration_v1'))\n",
        "MapBiomasProjeto.bandNames().getInfo()"
      ],
      "execution_count": 0,
      "outputs": []
    },
    {
      "cell_type": "code",
      "metadata": {
        "id": "-99MaUd0wZaZ",
        "colab_type": "code",
        "colab": {
          "base_uri": "https://localhost:8080/",
          "height": 858
        },
        "outputId": "33d89934-c9cf-4d5c-a440-5d7726b95634"
      },
      "source": [
        "#Vamos selecionar o ano de 1985 e o ano de 2018\n",
        "\n",
        "MapBiomas1985=MapBiomasProjeto.select('classification_1985')\n",
        "\n",
        "MapBiomas2018=MapBiomasProjeto.select('classification_2018')\n",
        "\n",
        "#Aqui está um palette adequado para visualizar todas as classificações do MapBiomas\n",
        "\n",
        "visclass = {\"min\": 0, \"max\": 33,\n",
        "        \"palette\": \"d5d5e5,129912,1f4423,006400,00ff00,\" +\n",
        "                   \"687537,76a5af,29eee4,77a605,935132,ff9966,45c2a5,\" +\n",
        "                   \"b8af4f,f1c232,ffffb2,f6b26b,f6b26b,a0d0de,\" +\n",
        "                   \"e974ed,d5a6bd,c27ba0,FBF3C7,d0670f,\" +\n",
        "                   \"dd7e6b,b7b7b7,ff99ff,\" +\n",
        "                   \"0000ff,d5d5e5\"};               \n",
        "\n",
        "\n",
        "meuMap.add_ee_layer(MapBiomas1985, visclass,'1985')\n",
        "meuMap.add_ee_layer(MapBiomas2018, visclass,'2018')\n",
        "\n",
        "meuMap.add_child(folium.LayerControl())\n",
        "\n",
        "display(meuMap)"
      ],
      "execution_count": 7,
      "outputs": [
        {
          "output_type": "display_data",
          "data": {
            "text/html": [
              "<div style=\"width:100%;\"><div style=\"position:relative;width:100%;height:0;padding-bottom:60%;\"><iframe src=\"data:text/html;charset=utf-8;base64,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\" style=\"position:absolute;width:100%;height:100%;left:0;top:0;border:none !important;\" allowfullscreen webkitallowfullscreen mozallowfullscreen></iframe></div></div>"
            ],
            "text/plain": [
              "<folium.folium.Map at 0x7fac89da3978>"
            ]
          },
          "metadata": {
            "tags": []
          }
        }
      ]
    },
    {
      "cell_type": "code",
      "metadata": {
        "id": "KCHlghR6z0Yn",
        "colab_type": "code",
        "colab": {}
      },
      "source": [
        ""
      ],
      "execution_count": 0,
      "outputs": []
    }
  ]
}
