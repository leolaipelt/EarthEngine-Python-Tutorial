{
  "nbformat": 4,
  "nbformat_minor": 0,
  "metadata": {
    "colab": {
      "name": "Exportando.ipynb",
      "provenance": [],
      "include_colab_link": true
    },
    "kernelspec": {
      "name": "python3",
      "display_name": "Python 3"
    }
  },
  "cells": [
    {
      "cell_type": "markdown",
      "metadata": {
        "id": "view-in-github",
        "colab_type": "text"
      },
      "source": [
        "<a href=\"https://colab.research.google.com/github/leolaipelt/EarthEnginePythonBasico/blob/master/Exportando.ipynb\" target=\"_parent\"><img src=\"https://colab.research.google.com/assets/colab-badge.svg\" alt=\"Open In Colab\"/></a>"
      ]
    },
    {
      "cell_type": "markdown",
      "metadata": {
        "id": "m5L3yPnbXbqF",
        "colab_type": "text"
      },
      "source": [
        "## Como exportar no EE\n",
        "\n",
        "Agora que já fizemos diversos processamentos, está na hora de analisarmos as possibilidades que possuímos para exportar os resultados. <br>\n",
        "\n",
        "Como estamos rodando os nossos códigos em servidores do Google, nós temos como opção salvar em nosso Google Drive, no Google Cloud, além de poder salvar na própria plataforma EarthEngine através do Assets!\n",
        "\n",
        "Caso seja muito importante para você salvar diretamente em seu computador, existe a opção de criar um link de download da imagem *.getDownloadURL()*. Contudo, se o arquivo for muito grande, ou a sua internet não for das melhores, é provavel que esse procedimento seja reailizado inadequadamente!\n",
        "\n",
        "### Vamos conferir como realizar para todos os casos!"
      ]
    },
    {
      "cell_type": "code",
      "metadata": {
        "id": "63K-dVaHXJAu",
        "colab_type": "code",
        "colab": {}
      },
      "source": [
        "!pip install earthengine-api"
      ],
      "execution_count": 0,
      "outputs": []
    },
    {
      "cell_type": "code",
      "metadata": {
        "id": "A7L9Z9pfoN9y",
        "colab_type": "code",
        "colab": {}
      },
      "source": [
        "import ee; ee.Authenticate()"
      ],
      "execution_count": 0,
      "outputs": []
    },
    {
      "cell_type": "markdown",
      "metadata": {
        "id": "BUroqFDRo0AN",
        "colab_type": "text"
      },
      "source": [
        "### Drive\n",
        "\n",
        "Exportar uma imagem para sua conta do Drive:"
      ]
    },
    {
      "cell_type": "code",
      "metadata": {
        "id": "KcAgEpv0okUR",
        "colab_type": "code",
        "colab": {}
      },
      "source": [
        "exportar = ee.batch.Export.image.toDrive(**{\n",
        "    'image': imagem,\n",
        "    'description': 'imagem_exemplo',\n",
        "    'folder':'nome_da_pasta',\n",
        "    'scale': 30, #escala\n",
        "    'region': imagem.geometry().bounds().getInfo()['coordinates'] #coordenada com a geometris requerida\n",
        "})\n",
        "exportar.start() "
      ],
      "execution_count": 0,
      "outputs": []
    },
    {
      "cell_type": "markdown",
      "metadata": {
        "id": "ZjhufHIkpY65",
        "colab_type": "text"
      },
      "source": [
        "### Google Cloud\n",
        "\n",
        "Para usar o Google Cloud, você precisa possuir uma conta associada a ela e criar um \"bucket\" na qual receberá a imagem.\n",
        "\n",
        "[Mais informações sobre Google Cloud](https://cloud.google.com/storage/docs/cloud-console)\n",
        "\n",
        "[Mais informaçoes da interação EE e Google Cloud](https://developers.google.com/earth-engine/app_engine_intro)\n",
        "\n"
      ]
    },
    {
      "cell_type": "code",
      "metadata": {
        "id": "CleF34arpUEG",
        "colab_type": "code",
        "colab": {}
      },
      "source": [
        "SeuBucket = 'leolaipelt' #Mude Para O nome Do Seu Bucket\n",
        "\n",
        "exportar = ee.batch.Export.image.toCloudStorage(**{\n",
        "    'image': imagem,\n",
        "      'description': 'imagem_exemplo',\n",
        "    'scale': 30, #escala\n",
        "    'region': imagem.geometry().bounds().getInfo()['coordinates'],\n",
        "    'fileFormat': 'GeoTIFF',\n",
        "    'bucket': SeuBucket,\n",
        "    'formatOptions': {'cloudOptimized': True}\n",
        "})\n",
        "exportar.start()"
      ],
      "execution_count": 0,
      "outputs": []
    },
    {
      "cell_type": "markdown",
      "metadata": {
        "id": "FPN62QNUqaRF",
        "colab_type": "text"
      },
      "source": [
        "### Asset\n",
        "\n",
        "Para exportar uma imagem com Assets:"
      ]
    },
    {
      "cell_type": "code",
      "metadata": {
        "id": "Pj2xLhSpqVs8",
        "colab_type": "code",
        "colab": {}
      },
      "source": [
        "exportar = ee.batch.Export.image.toAsset(**{\n",
        "                'image': imagem,\n",
        "                'description': 'imagem_exemplo',\n",
        "                'assetId': 'users/leolaipelt/Image_name',\n",
        "                'scale': 30,\n",
        "                'maxPixels':1088696215,\n",
        "                'region': imagem.geometry().bounds().getInfo()['coordinates']\n",
        "                })\n",
        "exportar.start()"
      ],
      "execution_count": 0,
      "outputs": []
    },
    {
      "cell_type": "markdown",
      "metadata": {
        "id": "W_K0yDQoxK7Y",
        "colab_type": "text"
      },
      "source": [
        "## Salvando em Seu Computador\n",
        "\n",
        "Essa opção gera um link https para que você copie o mesmo e coloque-o em seu browser para que ele realize o download. Outra forma é utilizar bibliotecas Python que realizam o download através desse link (pyCurl, wget)."
      ]
    },
    {
      "cell_type": "code",
      "metadata": {
        "id": "F8aKlG1kxhJr",
        "colab_type": "code",
        "colab": {}
      },
      "source": [
        "exportar = imagem.getDownloadUrl({\n",
        "            'name': 'imagem_exempl0', \n",
        "            'scale': 30,\n",
        "            'crs': 'EPSG:32722'   #EPSG:32722 utmzone22s  #wgs84EPSG:4326\n",
        "            })"
      ],
      "execution_count": 0,
      "outputs": []
    }
  ]
}