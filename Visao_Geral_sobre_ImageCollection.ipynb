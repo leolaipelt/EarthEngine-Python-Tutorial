{
  "nbformat": 4,
  "nbformat_minor": 0,
  "metadata": {
    "colab": {
      "name": "Visao Geral sobre ImageCollection.ipynb",
      "provenance": [],
      "include_colab_link": true
    },
    "kernelspec": {
      "name": "python3",
      "display_name": "Python 3"
    }
  },
  "cells": [
    {
      "cell_type": "markdown",
      "metadata": {
        "id": "view-in-github",
        "colab_type": "text"
      },
      "source": [
        "<a href=\"https://colab.research.google.com/github/leolaipelt/EarthEnginePythonBasico/blob/master/Visao_Geral_sobre_ImageCollection.ipynb\" target=\"_parent\"><img src=\"https://colab.research.google.com/assets/colab-badge.svg\" alt=\"Open In Colab\"/></a>"
      ]
    },
    {
      "cell_type": "markdown",
      "metadata": {
        "id": "i-htd-m-99Ru",
        "colab_type": "text"
      },
      "source": [
        "# Visao Geral sobre ImageCollection\n",
        "\n",
        "ImageCollection é o nome denominado para manipular uma série de imagens no EE. \n",
        "\n",
        "Podemos criar uma ImageCollection com o comando: *ee.ImageCollection()* ou a partir de imagens separadas com o comando *ee.ImageCollection.fromImages()*.\n",
        "\n",
        "**Vamos conferir um exemplo indicado pelo site do EE:**"
      ]
    },
    {
      "cell_type": "code",
      "metadata": {
        "id": "BB3nQhNC_O-S",
        "colab_type": "code",
        "colab": {}
      },
      "source": [
        "!pip install earthengine-api\n"
      ],
      "execution_count": 0,
      "outputs": []
    },
    {
      "cell_type": "code",
      "metadata": {
        "id": "V8n5zD0v_Mof",
        "colab_type": "code",
        "colab": {}
      },
      "source": [
        "import ee; ee.Authenticate()\n",
        "\n"
      ],
      "execution_count": 0,
      "outputs": []
    },
    {
      "cell_type": "code",
      "metadata": {
        "id": "NkpoyNGA_h7i",
        "colab_type": "code",
        "colab": {}
      },
      "source": [
        "ee.Initialize()"
      ],
      "execution_count": 0,
      "outputs": []
    },
    {
      "cell_type": "code",
      "metadata": {
        "id": "9HVNqYrL9pxk",
        "colab_type": "code",
        "colab": {
          "base_uri": "https://localhost:8080/",
          "height": 87
        },
        "outputId": "51d7cbdc-f3f2-42dc-cbfa-5cff0aa4c404"
      },
      "source": [
        "#Criando duas imagens arbitrárias e de valor constante\n",
        "\n",
        "image1 = ee.Image(1)\n",
        "image2 = ee.Image(2)\n",
        "\n",
        "#Criando uma ImageCollection com as duas imagens anteriores\n",
        "\n",
        "colecaodeimagens = ee.ImageCollection([image1, image2])\n",
        "print(colecaodeimagens.getInfo())\n",
        "\n",
        "#Usando fromImages().\n",
        "colecaodeimagens_FromImages = ee.ImageCollection.fromImages([ee.Image(3), ee.Image(4)])\n",
        "\n",
        "print(colecaodeimagens_FromImages.getInfo())\n",
        "\n",
        "#E juntando duas colecoes de imagens\n",
        "mergedCollection = colecaodeimagens.merge(colecaodeimagens_FromImages)\n",
        "\n",
        "print(mergedCollection.getInfo())"
      ],
      "execution_count": 7,
      "outputs": [
        {
          "output_type": "stream",
          "text": [
            "{'type': 'ImageCollection', 'bands': [], 'features': [{'type': 'Image', 'bands': [{'id': 'constant', 'data_type': {'type': 'PixelType', 'precision': 'int', 'min': 1, 'max': 1}, 'crs': 'EPSG:4326', 'crs_transform': [1.0, 0.0, 0.0, 0.0, 1.0, 0.0]}], 'properties': {'system:index': '0'}}, {'type': 'Image', 'bands': [{'id': 'constant', 'data_type': {'type': 'PixelType', 'precision': 'int', 'min': 2, 'max': 2}, 'crs': 'EPSG:4326', 'crs_transform': [1.0, 0.0, 0.0, 0.0, 1.0, 0.0]}], 'properties': {'system:index': '1'}}]}\n",
            "{'type': 'ImageCollection', 'bands': [], 'features': [{'type': 'Image', 'bands': [{'id': 'constant', 'data_type': {'type': 'PixelType', 'precision': 'int', 'min': 3, 'max': 3}, 'crs': 'EPSG:4326', 'crs_transform': [1.0, 0.0, 0.0, 0.0, 1.0, 0.0]}], 'properties': {'system:index': '0'}}, {'type': 'Image', 'bands': [{'id': 'constant', 'data_type': {'type': 'PixelType', 'precision': 'int', 'min': 4, 'max': 4}, 'crs': 'EPSG:4326', 'crs_transform': [1.0, 0.0, 0.0, 0.0, 1.0, 0.0]}], 'properties': {'system:index': '1'}}]}\n",
            "{'type': 'ImageCollection', 'bands': [], 'features': [{'type': 'Image', 'bands': [{'id': 'constant', 'data_type': {'type': 'PixelType', 'precision': 'int', 'min': 1, 'max': 1}, 'crs': 'EPSG:4326', 'crs_transform': [1.0, 0.0, 0.0, 0.0, 1.0, 0.0]}], 'properties': {'system:index': '1_0'}}, {'type': 'Image', 'bands': [{'id': 'constant', 'data_type': {'type': 'PixelType', 'precision': 'int', 'min': 2, 'max': 2}, 'crs': 'EPSG:4326', 'crs_transform': [1.0, 0.0, 0.0, 0.0, 1.0, 0.0]}], 'properties': {'system:index': '1_1'}}, {'type': 'Image', 'bands': [{'id': 'constant', 'data_type': {'type': 'PixelType', 'precision': 'int', 'min': 3, 'max': 3}, 'crs': 'EPSG:4326', 'crs_transform': [1.0, 0.0, 0.0, 0.0, 1.0, 0.0]}], 'properties': {'system:index': '2_0'}}, {'type': 'Image', 'bands': [{'id': 'constant', 'data_type': {'type': 'PixelType', 'precision': 'int', 'min': 4, 'max': 4}, 'crs': 'EPSG:4326', 'crs_transform': [1.0, 0.0, 0.0, 0.0, 1.0, 0.0]}], 'properties': {'system:index': '2_1'}}]}\n"
          ],
          "name": "stdout"
        }
      ]
    },
    {
      "cell_type": "markdown",
      "metadata": {
        "id": "_gZ5sfmr_4CM",
        "colab_type": "text"
      },
      "source": [
        " # Metadata e Informações da **ImageCollection** "
      ]
    },
    {
      "cell_type": "markdown",
      "metadata": {
        "id": "_13ESFtoG0UG",
        "colab_type": "text"
      },
      "source": [
        "Ver as informações das imagens que fazem parte do grupo de ImageCollections é praticamente igual se estivessemos querendo saber uma informação de apenas uma imagem. Contudo, é necessário tomar cuidado com algumas limitações.\n",
        "\n",
        "O EE limita o \"print\" das informações de uma ImageCollection se essa solicitação ultrapassar 5000 elementos! Ou seja, se a sua ImageCollection possui 5000 elementos, um erro de *\"without memory\"* ou similar irá aparecer!\n",
        "\n",
        "Para evitar esse problema, é interessante a gente ser direto na solicitação de informação, além de utilizar as ferramentas que o EE disponibiliza para fazer isso.\n",
        "\n",
        "**Vamos ver agora um exemplo de como utilizar o** *ee.Filter* na chamada das coleções de ImageCollection, para determinar, por exemplo, as órbitas-pontos dos satélites **LANDSAT**, ou a data específica que temos interesse!"
      ]
    },
    {
      "cell_type": "code",
      "metadata": {
        "id": "wW4N2-KCHwyd",
        "colab_type": "code",
        "colab": {
          "base_uri": "https://localhost:8080/",
          "height": 34
        },
        "outputId": "3917a5c7-7628-49b7-a3e1-3ac435e2c9bd"
      },
      "source": [
        "#Carregando uma coleção de imagens do LANDSAT L8 e filtrando uma específica orbita-ponto\n",
        "\n",
        "collection = ee.ImageCollection('LANDSAT/LC08/C01/T1_TOA')\\\n",
        "    .filter(ee.Filter.eq('WRS_PATH', 223))\\\n",
        "    .filter(ee.Filter.eq('WRS_ROW', 67))\\\n",
        "    .filterDate('2015-01-01', '2015-12-01');\n",
        "\n",
        "#print('Collection: ', collection);\n",
        "\n",
        "#Descobrindo Quantas imagens estão presentes nessa coleção\n",
        "count = collection.size();\n",
        "print(count.getInfo());\n",
        "\n",
        "#O intervalo de datas das imagens!\n",
        "range = collection.reduceColumns(ee.Reducer.minMax(), [\"system:time_start\"])\n",
        "#print('Date range: ', ee.Date(range.get('min')), ee.Date(range.get('max')))\n",
        "\n",
        "#Obtendo alguma estatística como, por exemplo, A Elevação Solar na hora de passagem do satélite!\n",
        "sunStats = collection.aggregate_stats('SUN_ELEVATION');\n",
        "#print(sunStats.getInfo());"
      ],
      "execution_count": 14,
      "outputs": [
        {
          "output_type": "stream",
          "text": [
            "20\n"
          ],
          "name": "stdout"
        }
      ]
    },
    {
      "cell_type": "code",
      "metadata": {
        "id": "bsTvtZ8CJF7d",
        "colab_type": "code",
        "colab": {
          "base_uri": "https://localhost:8080/",
          "height": 50
        },
        "outputId": "40cc5f9d-9c24-41aa-ec02-597b3603d242"
      },
      "source": [
        "#Descobrir a imagem com menor cobertura de Nuvem dentro da Coleção\n",
        "image = ee.Image(collection.sort('CLOUD_COVER').first()); #Sort orienta as imagens de menores valores a maiores (default) e em relação a propriedade escolhida\n",
        "#Se usarmos .sort('CLOUD_COVER',False) estaremos ordenando na ordem decrescente\n",
        "print('A porcentagem do dia com MENOR cobertura de núvem: ', image.get('CLOUD_COVER').getInfo());\n",
        "\n",
        "image2 = ee.Image(collection.sort('CLOUD_COVER',False).first());\n",
        "print('A porcentagem do dia com MAIS cobertura de núvem: ', image2.get('CLOUD_COVER').getInfo());\n"
      ],
      "execution_count": 18,
      "outputs": [
        {
          "output_type": "stream",
          "text": [
            "A porcentagem do dia com menos cobertura de núvem:  0.0\n",
            "A porcentagem do dia com MAIS cobertura de núvem:  95.08\n"
          ],
          "name": "stdout"
        }
      ]
    },
    {
      "cell_type": "markdown",
      "metadata": {
        "id": "sUvgVxSuKnZ5",
        "colab_type": "text"
      },
      "source": [
        "## O EE ainda possui outros tipos de filtros para localizarmos o que realmente queremos!\n",
        "\n",
        "Um exemplo é o filtro para achar imagens dentro da coleção do LANDSAT que fazem parte da geometria que você escolheu - podendo ser um *Ponto, Retângulo, PolyLines....*\n"
      ]
    },
    {
      "cell_type": "code",
      "metadata": {
        "id": "MyNH9s1_J5II",
        "colab_type": "code",
        "colab": {}
      },
      "source": [
        "#Como entrada estou inserindo um ponto de interesse, e quero todas as imagens naquele período de tempo escolhido\n",
        "collection_SR = (ee.ImageCollection('LANDSAT/LC08/C01/T1_SR')\n",
        "  .filterDate('2018-01-01', '2018-12-31')\n",
        "  .filterMetadata('CLOUD_COVER', 'less_than', 15)\n",
        "  .filterBounds(ee.Geometry.Point(-51.0, -30.0)));  \n",
        "\n",
        "\n",
        "#Aqui vamos montar uma image RGB  com a primeira imagem que está na lista da coleção\n",
        "\n",
        "Mosaic=collection_SR.select('B4','B3','B2').first()"
      ],
      "execution_count": 0,
      "outputs": []
    },
    {
      "cell_type": "code",
      "metadata": {
        "id": "s12xjn32LLYG",
        "colab_type": "code",
        "colab": {}
      },
      "source": [
        "#Vamos visualizar esse produto com o mapa que já criamos!\n",
        "import folium\n",
        "\n",
        "def add_ee_layer(self,imagem,visParams, nome):\n",
        "  mapID = ee.Image(imagem).getMapId(visParams)\n",
        "  folium.raster_layers.TileLayer(\n",
        "    tiles =\"https://earthengine.googleapis.com/map/\"+mapID['mapid']+\n",
        "      \"/{z}/{x}/{y}?token=\"+mapID['token'],\n",
        "    attr = \"Nosso Mapinha do Curso de Python\",\n",
        "    name = nome,\n",
        "    overlay = True,\n",
        "    control = True\n",
        "  ).add_to(self)\n",
        "  \n",
        "meuMap = folium.Map(location=[20, 0], zoom_start=3, height=800)\n",
        "\n",
        "folium.Map.add_ee_layer = add_ee_layer"
      ],
      "execution_count": 0,
      "outputs": []
    },
    {
      "cell_type": "code",
      "metadata": {
        "id": "u52bE53UMjh8",
        "colab_type": "code",
        "colab": {
          "base_uri": "https://localhost:8080/",
          "height": 858
        },
        "outputId": "1fd38a84-a126-4583-95f0-ae35d64369cb"
      },
      "source": [
        "# Adicionando no mapa a imagem que criamos\n",
        "meuMap.add_ee_layer(Mosaic, {'min': 0,'max': 2000,'gamma':'1.5'},'LANDSAT8')\n",
        "\n",
        "# Adicionando um controlador de layers no nosso mapa\n",
        "meuMap.add_child(folium.LayerControl())\n",
        "\n",
        "#Ver nosso mapa!\n",
        "display(meuMap)"
      ],
      "execution_count": 121,
      "outputs": [
        {
          "output_type": "display_data",
          "data": {
            "text/html": [
              "<div style=\"width:100%;\"><div style=\"position:relative;width:100%;height:0;padding-bottom:60%;\"><iframe src=\"data:text/html;charset=utf-8;base64,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\" style=\"position:absolute;width:100%;height:100%;left:0;top:0;border:none !important;\" allowfullscreen webkitallowfullscreen mozallowfullscreen></iframe></div></div>"
            ],
            "text/plain": [
              "<folium.folium.Map at 0x7f72996043c8>"
            ]
          },
          "metadata": {
            "tags": []
          }
        }
      ]
    },
    {
      "cell_type": "markdown",
      "metadata": {
        "id": "jNb3tHdYTJLn",
        "colab_type": "text"
      },
      "source": [
        "## Usando a Função *.map()*\n",
        "\n",
        "Essa função é utilizada para realizar uma ação em todas as imagens que fazem parte da coleção. \n",
        "\n",
        "**Por exemplo**, se eu quiser o timestamp da imagem eu posso fazer o seguinte:"
      ]
    },
    {
      "cell_type": "code",
      "metadata": {
        "id": "wMJ3_B6XPran",
        "colab_type": "code",
        "colab": {
          "base_uri": "https://localhost:8080/",
          "height": 1000
        },
        "outputId": "6163f422-9b52-42f2-a0a0-da1aa48cbf50"
      },
      "source": [
        "collection = ee.ImageCollection('LANDSAT/LC08/C01/T1_TOA')\\\n",
        "  .filter(ee.Filter.eq('WRS_PATH', 44))\\\n",
        "  .filter(ee.Filter.eq('WRS_ROW', 34));\n",
        "\n",
        "def addtime(image):\n",
        "  return image.addBands(image.metadata('system:time_start'));\n",
        "\n",
        "print(collection.map(addtime));"
      ],
      "execution_count": 110,
      "outputs": [
        {
          "output_type": "stream",
          "text": [
            "ee.ImageCollection({\n",
            "  \"type\": \"Invocation\",\n",
            "  \"arguments\": {\n",
            "    \"collection\": {\n",
            "      \"type\": \"Invocation\",\n",
            "      \"arguments\": {\n",
            "        \"collection\": {\n",
            "          \"type\": \"Invocation\",\n",
            "          \"arguments\": {\n",
            "            \"collection\": {\n",
            "              \"type\": \"Invocation\",\n",
            "              \"arguments\": {\n",
            "                \"id\": \"LANDSAT/LC08/C01/T1_TOA\"\n",
            "              },\n",
            "              \"functionName\": \"ImageCollection.load\"\n",
            "            },\n",
            "            \"filter\": {\n",
            "              \"type\": \"Invocation\",\n",
            "              \"arguments\": {\n",
            "                \"leftField\": \"WRS_PATH\",\n",
            "                \"rightValue\": 44\n",
            "              },\n",
            "              \"functionName\": \"Filter.equals\"\n",
            "            }\n",
            "          },\n",
            "          \"functionName\": \"Collection.filter\"\n",
            "        },\n",
            "        \"filter\": {\n",
            "          \"type\": \"Invocation\",\n",
            "          \"arguments\": {\n",
            "            \"leftField\": \"WRS_ROW\",\n",
            "            \"rightValue\": 34\n",
            "          },\n",
            "          \"functionName\": \"Filter.equals\"\n",
            "        }\n",
            "      },\n",
            "      \"functionName\": \"Collection.filter\"\n",
            "    },\n",
            "    \"baseAlgorithm\": {\n",
            "      \"type\": \"Function\",\n",
            "      \"argumentNames\": [\n",
            "        \"_MAPPING_VAR_0_0\"\n",
            "      ],\n",
            "      \"body\": {\n",
            "        \"type\": \"Invocation\",\n",
            "        \"arguments\": {\n",
            "          \"dstImg\": {\n",
            "            \"type\": \"ArgumentRef\",\n",
            "            \"value\": \"_MAPPING_VAR_0_0\"\n",
            "          },\n",
            "          \"srcImg\": {\n",
            "            \"type\": \"Invocation\",\n",
            "            \"arguments\": {\n",
            "              \"image\": {\n",
            "                \"type\": \"ArgumentRef\",\n",
            "                \"value\": \"_MAPPING_VAR_0_0\"\n",
            "              },\n",
            "              \"property\": \"system:time_start\"\n",
            "            },\n",
            "            \"functionName\": \"Image.metadata\"\n",
            "          }\n",
            "        },\n",
            "        \"functionName\": \"Image.addBands\"\n",
            "      }\n",
            "    }\n",
            "  },\n",
            "  \"functionName\": \"Collection.map\"\n",
            "})\n"
          ],
          "name": "stdout"
        }
      ]
    },
    {
      "cell_type": "markdown",
      "metadata": {
        "id": "cKdlai9XVeOb",
        "colab_type": "text"
      },
      "source": [
        "É utilizando o *.map()*, por exemplo, que podemos fazer uma filtragem das imagens **LANDSAT** em relação a presença de nuvens na cena!\n",
        "\n",
        "Primeiro, precisamos criar uma função que utilize a banda *\"pixel_qa\"* que classifica os pixels na imagem para gente identificar os pixels referentes a nuvens (segundo o *pixel_qa*), e retirarmos de todas as bandas e de todas as imagens!\n",
        "\n",
        "**Bora!**"
      ]
    },
    {
      "cell_type": "code",
      "metadata": {
        "id": "0tPr8JfNV3GY",
        "colab_type": "code",
        "colab": {}
      },
      "source": [
        "#Exemplo de máscara para imagens LANDSAT8\n",
        "\n",
        "def Cloud_MASKL8(image):\n",
        "    \n",
        "    quality = image.select('pixel_qa');\n",
        "    c01 = quality.eq(322); #//Clear, low confidence cloud\n",
        "    c02 = quality.eq(324); #//water, low confidence cloud\n",
        "    c03 = quality.eq(1346);# //Clear terrain, terrain occluded\n",
        "    mask = c01.Or(c02).Or(c03);\n",
        "    return image.updateMask(mask);"
      ],
      "execution_count": 0,
      "outputs": []
    },
    {
      "cell_type": "code",
      "metadata": {
        "id": "-0f7c0E9WAbG",
        "colab_type": "code",
        "colab": {
          "base_uri": "https://localhost:8080/",
          "height": 858
        },
        "outputId": "0b54175e-dd4c-4427-fb40-a0e4acb19c1f"
      },
      "source": [
        "#Vamos Aplicar naquela coleção que filtramos anteriormente!\n",
        "\n",
        "Collection_cloudness=collection_SR.map(Cloud_MASKL8)\n",
        "\n",
        "#NovaImagem\n",
        "Mosaic_sem_nuvens=Collection_cloudness.select('B4','B3','B2').first()\n",
        "\n",
        "meuMap = folium.Map(location=[20, 0], zoom_start=3, height=800)\n",
        "\n",
        "folium.Map.add_ee_layer = add_ee_layer\n",
        "\n",
        "# Adicionando no mapa a imagem que criamos\n",
        "meuMap.add_ee_layer(Mosaic_sem_nuvens, {'min': 0,'max': 2000,'gamma':'1.5'},'Sem Nuvens')\n",
        "\n",
        "# Adicionando um controlador de layers no nosso mapa\n",
        "meuMap.add_child(folium.LayerControl())\n",
        "\n",
        "#Ver nosso mapa!\n",
        "display(meuMap)"
      ],
      "execution_count": 126,
      "outputs": [
        {
          "output_type": "display_data",
          "data": {
            "text/html": [
              "<div style=\"width:100%;\"><div style=\"position:relative;width:100%;height:0;padding-bottom:60%;\"><iframe src=\"data:text/html;charset=utf-8;base64,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\" style=\"position:absolute;width:100%;height:100%;left:0;top:0;border:none !important;\" allowfullscreen webkitallowfullscreen mozallowfullscreen></iframe></div></div>"
            ],
            "text/plain": [
              "<folium.folium.Map at 0x7f729975f898>"
            ]
          },
          "metadata": {
            "tags": []
          }
        }
      ]
    }
  ]
}